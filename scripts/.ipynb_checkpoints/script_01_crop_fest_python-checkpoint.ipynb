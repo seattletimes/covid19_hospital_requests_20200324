{
 "cells": [
  {
   "cell_type": "markdown",
   "metadata": {},
   "source": [
    "# Settings"
   ]
  },
  {
   "cell_type": "code",
   "execution_count": 1,
   "metadata": {},
   "outputs": [],
   "source": [
    "from PyPDF2 import PdfFileMerger, PageRange, PdfFileWriter, PdfFileReader\n",
    "import fitz\n",
    "from os import listdir\n",
    "import re"
   ]
  },
  {
   "cell_type": "code",
   "execution_count": 2,
   "metadata": {},
   "outputs": [],
   "source": [
    "# Obtain a list of all the files in the 'output_data' folder\n",
    "file_list = listdir('../source_data/pdf/')\n",
    "\n",
    "# Weed out any file in the list that may not be a PDF\n",
    "file_list = [file for file in file_list if re.search('pdf$', file)]"
   ]
  },
  {
   "cell_type": "code",
   "execution_count": 3,
   "metadata": {},
   "outputs": [
    {
     "name": "stdout",
     "output_type": "stream",
     "text": [
      "We have a total of 70 PDF files we wish to scrap.\n"
     ]
    }
   ],
   "source": [
    "print('We have a total of', len(file_list), 'PDF files we wish to scrap.')"
   ]
  },
  {
   "cell_type": "markdown",
   "metadata": {},
   "source": [
    "# Bringing everybody together: Merge all PDF reports intro three different files"
   ]
  },
  {
   "cell_type": "markdown",
   "metadata": {},
   "source": [
    "The first page of each report has a different format than the rest of the report's pages. This means that the cropping strategy for the first pages will be different than that for the rest of the pages. That is why regroup the all the pages of the 70 reports into three different PDF files:\n",
    "\n",
    "1. A PDF containing all the pages of all the original reports.\n",
    "1. A PDF containing only the first page of each of the 70 original reports.\n",
    "1. A PDF containing only all the non-first page of each of the 70 original reports.\n",
    "\n",
    "We will only crop files 2 & 3. File 1, containing all pages from all files, is created only for consistency testing . (Making sure the total pages from files 2 & 3 add up to the total of file 1, for example.)"
   ]
  },
  {
   "cell_type": "code",
   "execution_count": 4,
   "metadata": {},
   "outputs": [],
   "source": [
    "mega_pdf = PdfFileMerger() # Pulls together all files into one big one\n",
    "pdf_first_pages = PdfFileMerger() # This one will contain all the first pages of each report\n",
    "pdf_non_first_pages = PdfFileMerger() # This one will contain all the non-first pages of each report\n",
    "\n",
    "for file in file_list:\n",
    "\n",
    "    # Merge them all into one\n",
    "    mega_pdf.append('../source_data/pdf/' + file, pages=PageRange(':'))\n",
    "    \n",
    "    # File with only the first pages of all individual PDFs\n",
    "    pdf_first_pages.append('../source_data/pdf/' + file, pages=PageRange('0'))\n",
    "    \n",
    "    # File with the non-first pages of all individual PDFs\n",
    "    pdf_non_first_pages.append('../source_data/pdf/' + file, pages=PageRange('1:'))\n",
    "\n",
    "mega_pdf.write('../output_data/pdf/reports_all_pages.pdf')\n",
    "pdf_first_pages.write('../output_data/pdf/reports_first_pages.pdf')\n",
    "pdf_non_first_pages.write('../output_data/pdf/reports_non_first_pages.pdf')\n",
    "\n",
    "mega_pdf.close()\n",
    "pdf_first_pages.close()\n",
    "pdf_non_first_pages.close()"
   ]
  },
  {
   "cell_type": "markdown",
   "metadata": {},
   "source": [
    "# Cropping fest"
   ]
  },
  {
   "cell_type": "markdown",
   "metadata": {},
   "source": [
    "Now that we have separated first pages and non-first pages, we can go ahead and crop from each group the areas that we don't want to feed to Tabula. Once we do that, we export the result into two consolidated PDF files:\n",
    "\n",
    "- *reports_non_first_pages_cropped.pdf*\n",
    "- *reports_first_pages_cropped.pdf*\n",
    "\n",
    "These are the files we will feed to Tabula's starving digestive system.\n",
    "\n",
    "**Warnign!**\n",
    "For some reason, sometimes the PDF files produced by the next couple of cells turn out corrupted and cannot be opened. If that happens, run both cells again. Usually the second or third time are successful. (More than willing and grateful if anybody has any idea regarding the reason for such annoyance.)"
   ]
  },
  {
   "cell_type": "markdown",
   "metadata": {},
   "source": [
    "### Non-first pages"
   ]
  },
  {
   "cell_type": "code",
   "execution_count": 5,
   "metadata": {},
   "outputs": [],
   "source": [
    "ftz = fitz.open('../output_data/pdf/reports_non_first_pages.pdf')\n",
    "reader = PdfFileReader('../output_data/pdf/reports_non_first_pages.pdf')\n",
    "writer = PdfFileWriter()\n",
    "\n",
    "# Consistency test\n",
    "assert len(reader.pages) == len(ftz)\n",
    "\n",
    "# (left, top, right, bottom) = (0.0, 0.0, 842.0, 595.0)\n",
    "for i in range(0, len(reader.pages)):\n",
    "    reader_page = reader.pages[i]\n",
    "    fitz_page = ftz[i]\n",
    "    \n",
    "    right = fitz_page.searchFor('Update')[-1][0]\n",
    "    \n",
    "    reader_page.mediaBox.lowerLeft = (0, fitz_page.rect[3]-555) # (0, 595-555)\n",
    "    reader_page.mediaBox.upperRight = (right*0.99, fitz_page.rect[3]-45) # (842-right, 595-45)\n",
    "    writer.addPage(reader_page)\n",
    "\n",
    "output_file = open('../output_data/pdf/reports_non_first_pages_cropped.pdf', 'wb')\n",
    "writer.write(output_file)"
   ]
  },
  {
   "cell_type": "markdown",
   "metadata": {},
   "source": [
    "### First pages"
   ]
  },
  {
   "cell_type": "code",
   "execution_count": 6,
   "metadata": {},
   "outputs": [],
   "source": [
    "ftz = fitz.open('../output_data/pdf/reports_first_pages.pdf')\n",
    "reader = PdfFileReader('../output_data/pdf/reports_first_pages.pdf')\n",
    "writer = PdfFileWriter()\n",
    "\n",
    "# Consistency test\n",
    "assert len(reader.pages) == len(ftz)\n",
    "\n",
    "# (left, top, right, bottom) = (0.0, 0.0, 842.0, 595.0)\n",
    "for i in range(0, len(reader.pages)):\n",
    "    reader_page = reader.pages[i]\n",
    "    fitz_page = ftz[i]\n",
    "    \n",
    "    top = fitz_page.searchFor('Date/Time')[-1][3]\n",
    "    right = fitz_page.searchFor('Update')[-1][0]\n",
    "    \n",
    "    reader_page.mediaBox.lowerLeft = (0, fitz_page.rect[3]-550) # (0, 595-550)\n",
    "    reader_page.mediaBox.upperRight = (right*0.99, fitz_page.rect[3]-top) # (right, 595-top)\n",
    "    writer.addPage(reader_page)\n",
    "\n",
    "output_file = open('../output_data/pdf/reports_first_pages_cropped.pdf', 'wb')\n",
    "writer.write(output_file)"
   ]
  },
  {
   "cell_type": "markdown",
   "metadata": {},
   "source": [
    "After submitting the two consolidated files to Tabula and transforming them into CSV files, kindly proceed to the second script: **script_02_data_cleaning_and_analysis.ipynb**"
   ]
  }
 ],
 "metadata": {
  "kernelspec": {
   "display_name": "Python 3",
   "language": "python",
   "name": "python3"
  },
  "language_info": {
   "codemirror_mode": {
    "name": "ipython",
    "version": 3
   },
   "file_extension": ".py",
   "mimetype": "text/x-python",
   "name": "python",
   "nbconvert_exporter": "python",
   "pygments_lexer": "ipython3",
   "version": "3.7.7"
  }
 },
 "nbformat": 4,
 "nbformat_minor": 4
}
