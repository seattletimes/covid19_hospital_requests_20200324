{
 "cells": [
  {
   "cell_type": "markdown",
   "metadata": {},
   "source": [
    "# I. Environment settings"
   ]
  },
  {
   "cell_type": "code",
   "execution_count": 1,
   "metadata": {},
   "outputs": [],
   "source": [
    "import pandas as pd\n",
    "import re\n",
    "import numpy as np\n",
    "import datetime"
   ]
  },
  {
   "cell_type": "markdown",
   "metadata": {},
   "source": [
    "# II. Original data"
   ]
  },
  {
   "cell_type": "markdown",
   "metadata": {},
   "source": [
    "## Import the raw data"
   ]
  },
  {
   "cell_type": "code",
   "execution_count": 2,
   "metadata": {},
   "outputs": [],
   "source": [
    "df_pages1 = pd.read_csv('source_data/tabula_output/tabula-reports_first_pages_cropped.csv', header=None)\n",
    "df_pages2 = pd.read_csv('source_data/tabula_output/tabula-reports_non_first_pages_cropped.csv', header=None)"
   ]
  },
  {
   "cell_type": "code",
   "execution_count": 3,
   "metadata": {},
   "outputs": [
    {
     "name": "stdout",
     "output_type": "stream",
     "text": [
      "(559, 13)\n",
      "(1199, 13)\n"
     ]
    }
   ],
   "source": [
    "print(df_pages1.shape)\n",
    "print(df_pages2.shape)"
   ]
  },
  {
   "cell_type": "markdown",
   "metadata": {},
   "source": [
    "## Merge the different dataframes into one"
   ]
  },
  {
   "cell_type": "code",
   "execution_count": 4,
   "metadata": {},
   "outputs": [],
   "source": [
    "df_orig = pd.concat([df_pages1, df_pages2]).reset_index(drop=True)\n",
    "\n",
    "df_orig.columns = ['original_date', 'update_date', 'county_city', 'originating_agency', \n",
    "                   'jurisdictiont_tracking_num', 'state_tracking_num', 'emac_federal_ma_num', \n",
    "                   'subject', 'priority', 'worked_by', 'overall_status', 'assignment_status', 'assigned_to']"
   ]
  },
  {
   "cell_type": "markdown",
   "metadata": {},
   "source": [
    "## Create a working data frame"
   ]
  },
  {
   "cell_type": "code",
   "execution_count": 5,
   "metadata": {},
   "outputs": [
    {
     "name": "stdout",
     "output_type": "stream",
     "text": [
      "(1758, 13)\n",
      "RangeIndex(start=0, stop=1758, step=1)\n"
     ]
    }
   ],
   "source": [
    "df = df_orig.copy(deep=True)\n",
    "print(df.shape)\n",
    "print(df.index)"
   ]
  },
  {
   "cell_type": "markdown",
   "metadata": {},
   "source": [
    "# III. Cleaning"
   ]
  },
  {
   "cell_type": "markdown",
   "metadata": {},
   "source": [
    "Eliminate duplicate records."
   ]
  },
  {
   "cell_type": "code",
   "execution_count": 6,
   "metadata": {},
   "outputs": [
    {
     "name": "stdout",
     "output_type": "stream",
     "text": [
      "(1720, 13)\n",
      "RangeIndex(start=0, stop=1720, step=1)\n"
     ]
    }
   ],
   "source": [
    "df.drop_duplicates(keep='first', inplace=True, ignore_index=True)\n",
    "print(df.shape)\n",
    "print(df.index)"
   ]
  },
  {
   "cell_type": "markdown",
   "metadata": {},
   "source": [
    "Eliminate records that contain nothing but null values."
   ]
  },
  {
   "cell_type": "code",
   "execution_count": 7,
   "metadata": {},
   "outputs": [
    {
     "name": "stdout",
     "output_type": "stream",
     "text": [
      "(1719, 13)\n",
      "Int64Index([   0,    1,    2,    3,    4,    5,    6,    7,    8,    9,\n",
      "            ...\n",
      "            1710, 1711, 1712, 1713, 1714, 1715, 1716, 1717, 1718, 1719],\n",
      "           dtype='int64', length=1719)\n"
     ]
    }
   ],
   "source": [
    "df.dropna(axis=0, how='all', inplace=True)\n",
    "print(df.shape)\n",
    "print(df.index)\n",
    "\n",
    "# Remember the number of rows of df at this point. We will need it to run consistency tests later.\n",
    "original_lenght = len(df)"
   ]
  },
  {
   "cell_type": "code",
   "execution_count": 8,
   "metadata": {
    "scrolled": false
   },
   "outputs": [],
   "source": [
    "# Break up df into two dataframes:\n",
    "df_normal = df[df['original_date'].str.contains('^\\d{2}\\/\\d{2}\\/\\d{4}.*', na=False)]\n",
    "df_noise_values = df[~df['original_date'].str.contains('^\\d{2}\\/\\d{2}\\/\\d{4}.*', na=False)]\n",
    "\n",
    "# Consistency test\n",
    "assert len(df_normal) + len(df_noise_values) == original_lenght"
   ]
  },
  {
   "cell_type": "code",
   "execution_count": 9,
   "metadata": {
    "scrolled": true
   },
   "outputs": [
    {
     "data": {
      "text/html": [
       "<div>\n",
       "<style scoped>\n",
       "    .dataframe tbody tr th:only-of-type {\n",
       "        vertical-align: middle;\n",
       "    }\n",
       "\n",
       "    .dataframe tbody tr th {\n",
       "        vertical-align: top;\n",
       "    }\n",
       "\n",
       "    .dataframe thead th {\n",
       "        text-align: right;\n",
       "    }\n",
       "</style>\n",
       "<table border=\"1\" class=\"dataframe\">\n",
       "  <thead>\n",
       "    <tr style=\"text-align: right;\">\n",
       "      <th></th>\n",
       "      <th>original_date</th>\n",
       "      <th>update_date</th>\n",
       "      <th>county_city</th>\n",
       "      <th>originating_agency</th>\n",
       "      <th>jurisdictiont_tracking_num</th>\n",
       "      <th>state_tracking_num</th>\n",
       "      <th>emac_federal_ma_num</th>\n",
       "      <th>subject</th>\n",
       "      <th>priority</th>\n",
       "      <th>worked_by</th>\n",
       "      <th>overall_status</th>\n",
       "      <th>assignment_status</th>\n",
       "      <th>assigned_to</th>\n",
       "    </tr>\n",
       "  </thead>\n",
       "  <tbody>\n",
       "    <tr>\n",
       "      <th>609</th>\n",
       "      <td>Snohomish1234\\r03/21/202003/21/2020Aacres WA,W...</td>\n",
       "      <td>03/21/2020\\r13:58:12</td>\n",
       "      <td>03/21/2020\\r14:01:12</td>\n",
       "      <td>Snohomish\\rMountlake\\rTerrace</td>\n",
       "      <td>Aacres WA,\\rLLC­ SHD</td>\n",
       "      <td>1234\\rSnoco­\\r202032113133</td>\n",
       "      <td>WA­\\r202032113133</td>\n",
       "      <td>NaN</td>\n",
       "      <td>Glove</td>\n",
       "      <td>Incident\\rStabilization</td>\n",
       "      <td>County</td>\n",
       "      <td>Accepted</td>\n",
       "      <td>NaN</td>\n",
       "    </tr>\n",
       "    <tr>\n",
       "      <th>641</th>\n",
       "      <td>DepartmentWA­\\r202031413954\\rVirginia\\rMask, N...</td>\n",
       "      <td>NaN</td>\n",
       "      <td>NaN</td>\n",
       "      <td>NaN</td>\n",
       "      <td>Department</td>\n",
       "      <td>WA­\\r202031413954</td>\n",
       "      <td>NaN</td>\n",
       "      <td>NaN</td>\n",
       "      <td>NaN</td>\n",
       "      <td>NaN</td>\n",
       "      <td>NaN</td>\n",
       "      <td>NaN</td>\n",
       "      <td>NaN</td>\n",
       "    </tr>\n",
       "    <tr>\n",
       "      <th>681</th>\n",
       "      <td>PH­RR 213S Evening\\r03/04/202003/12/2020KingPH...</td>\n",
       "      <td>03/04/2020\\r15:48:10</td>\n",
       "      <td>03/12/2020\\r08:27:37</td>\n",
       "      <td>King\\rSeattle</td>\n",
       "      <td>PHSKC CD\\rEpi</td>\n",
       "      <td>PH­\\r2020341514</td>\n",
       "      <td>WA­\\r2020341514</td>\n",
       "      <td>NaN</td>\n",
       "      <td>RR 213S Evening\\rEvergreen Testing\\rTeam</td>\n",
       "      <td>Incident\\rStabilization</td>\n",
       "      <td>City</td>\n",
       "      <td>Unassigned</td>\n",
       "      <td>NaN</td>\n",
       "    </tr>\n",
       "    <tr>\n",
       "      <th>767</th>\n",
       "      <td>SkagitSedro­\\r03/17/202003/17/2020WA­Incident\\...</td>\n",
       "      <td>03/17/2020\\r08:40:10</td>\n",
       "      <td>03/17/2020\\r08:59:19</td>\n",
       "      <td>Skagit\\rSedro­\\rWoolley</td>\n",
       "      <td>Sedro­\\rWoolley\\rPolice</td>\n",
       "      <td>2.02003E+11</td>\n",
       "      <td>WA­\\r20203178748</td>\n",
       "      <td>NaN</td>\n",
       "      <td>Mask,surgical/Mask,N95/gloves,nitrile</td>\n",
       "      <td>Incident\\rStabilization</td>\n",
       "      <td>County</td>\n",
       "      <td>Completed</td>\n",
       "      <td>NaN</td>\n",
       "    </tr>\n",
       "    <tr>\n",
       "      <th>817</th>\n",
       "      <td>safety / Hand\\rSanitizer</td>\n",
       "      <td>NaN</td>\n",
       "      <td>NaN</td>\n",
       "      <td>NaN</td>\n",
       "      <td>NaN</td>\n",
       "      <td>NaN</td>\n",
       "      <td>NaN</td>\n",
       "      <td>NaN</td>\n",
       "      <td>safety / Hand\\rSanitizer</td>\n",
       "      <td>NaN</td>\n",
       "      <td>NaN</td>\n",
       "      <td>NaN</td>\n",
       "      <td>NaN</td>\n",
       "    </tr>\n",
       "    <tr>\n",
       "      <th>831</th>\n",
       "      <td>20­0265­001Staffing, OSC\\r03/14/202003/24/2020...</td>\n",
       "      <td>NaN</td>\n",
       "      <td>NaN</td>\n",
       "      <td>NaN</td>\n",
       "      <td>NaN</td>\n",
       "      <td>NaN</td>\n",
       "      <td>NaN</td>\n",
       "      <td>NaN</td>\n",
       "      <td>NaN</td>\n",
       "      <td>NaN</td>\n",
       "      <td>NaN</td>\n",
       "      <td>NaN</td>\n",
       "      <td>NaN</td>\n",
       "    </tr>\n",
       "    <tr>\n",
       "      <th>869</th>\n",
       "      <td>Cascade Valley\\r03/20/202003/21/2020SnohomishS...</td>\n",
       "      <td>03/20/2020\\r12:09:35</td>\n",
       "      <td>03/21/2020\\r09:08:23</td>\n",
       "      <td>Snohomish\\rArlington</td>\n",
       "      <td>Cascade Valley\\rSenior Living­\\rSHD/BULK Med\\rT3</td>\n",
       "      <td>SnoCo­\\r202032012958</td>\n",
       "      <td>WA­\\r202032012958</td>\n",
       "      <td>NaN</td>\n",
       "      <td>Mask, procedure</td>\n",
       "      <td>Incident\\rStabilization</td>\n",
       "      <td>County</td>\n",
       "      <td>Assigned</td>\n",
       "      <td>NaN</td>\n",
       "    </tr>\n",
       "    <tr>\n",
       "      <th>919</th>\n",
       "      <td>BEL­\\r03/09/202003/19/2020KingCity ofWA­Incide...</td>\n",
       "      <td>03/09/2020\\r13:03:04</td>\n",
       "      <td>03/19/2020\\r08:52:36</td>\n",
       "      <td>King\\rBellevue</td>\n",
       "      <td>City of\\rBellevue</td>\n",
       "      <td>BEL­\\r20203913808</td>\n",
       "      <td>WA­\\r20203913808</td>\n",
       "      <td>NaN</td>\n",
       "      <td>N­95 Masks</td>\n",
       "      <td>Incident\\rStabilization</td>\n",
       "      <td>City</td>\n",
       "      <td>Completed</td>\n",
       "      <td>NaN</td>\n",
       "    </tr>\n",
       "    <tr>\n",
       "      <th>998</th>\n",
       "      <td>Bremerton\\rSupplies/PPE for\\r03/22/202003/22/2...</td>\n",
       "      <td>03/22/2020\\r11:40:40</td>\n",
       "      <td>03/22/2020\\r11:55:20</td>\n",
       "      <td>Kitsap\\rBremerton</td>\n",
       "      <td>Bremerton\\rFD ­ Tier 1\\rEMS/FR\\ragency</td>\n",
       "      <td>Kitsap ­\\r046BFD</td>\n",
       "      <td>WA­\\r202032211536</td>\n",
       "      <td>NaN</td>\n",
       "      <td>Supplies/PPE for\\rTier 1 EMS/FR\\ragency</td>\n",
       "      <td>NaN</td>\n",
       "      <td>County</td>\n",
       "      <td>Unassigned</td>\n",
       "      <td>NaN</td>\n",
       "    </tr>\n",
       "    <tr>\n",
       "      <th>999</th>\n",
       "      <td>Snohomish15000\\r03/18/202003/19/2020SnohomishW...</td>\n",
       "      <td>03/18/2020\\r14:51:59</td>\n",
       "      <td>03/19/2020\\r20:24:14</td>\n",
       "      <td>Snohomish\\rEverett</td>\n",
       "      <td>Snohomish\\rCounty ­\\rDEM ECC</td>\n",
       "      <td>15000\\rSnoCo­\\r202031814581</td>\n",
       "      <td>WA­\\r202031814581</td>\n",
       "      <td>NaN</td>\n",
       "      <td>Filters, N95 Mask</td>\n",
       "      <td>Incident\\rStabilization</td>\n",
       "      <td>County</td>\n",
       "      <td>Assigned</td>\n",
       "      <td>NaN</td>\n",
       "    </tr>\n",
       "    <tr>\n",
       "      <th>1045</th>\n",
       "      <td>Hand\\rSanitizer\\rMask,\\rSurgical /\\rLewis Coun...</td>\n",
       "      <td>NaN</td>\n",
       "      <td>NaN</td>\n",
       "      <td>NaN</td>\n",
       "      <td>NaN</td>\n",
       "      <td>NaN</td>\n",
       "      <td>NaN</td>\n",
       "      <td>NaN</td>\n",
       "      <td>Hand\\rSanitizer</td>\n",
       "      <td>NaN</td>\n",
       "      <td>NaN</td>\n",
       "      <td>NaN</td>\n",
       "      <td>NaN</td>\n",
       "    </tr>\n",
       "    <tr>\n",
       "      <th>1101</th>\n",
       "      <td>PH­\\r03/03/202003/03/2020KingWA­Incident\\rPHSK...</td>\n",
       "      <td>03/03/2020\\r01:03:52</td>\n",
       "      <td>03/03/2020\\r01:08:09</td>\n",
       "      <td>King\\rSeattle</td>\n",
       "      <td>PHSKC</td>\n",
       "      <td>PH­\\r2020331930</td>\n",
       "      <td>WA­\\r2020331930</td>\n",
       "      <td>NaN</td>\n",
       "      <td>RR 039 ­ Meals for HMAC Staff</td>\n",
       "      <td>Incident\\rStabilization</td>\n",
       "      <td>City</td>\n",
       "      <td>Completed</td>\n",
       "      <td>NaN</td>\n",
       "    </tr>\n",
       "    <tr>\n",
       "      <th>1121</th>\n",
       "      <td>NaN</td>\n",
       "      <td>NaN</td>\n",
       "      <td>NaN</td>\n",
       "      <td>DBA</td>\n",
       "      <td>NaN</td>\n",
       "      <td>NaN</td>\n",
       "      <td>NaN</td>\n",
       "      <td>sanitizer</td>\n",
       "      <td>NaN</td>\n",
       "      <td>NaN</td>\n",
       "      <td>NaN</td>\n",
       "      <td>NaN</td>\n",
       "      <td>NaN</td>\n",
       "    </tr>\n",
       "    <tr>\n",
       "      <th>1128</th>\n",
       "      <td>PAPR filter,\\rhelmet\\rcover\\rPH­\\r202031412687...</td>\n",
       "      <td>NaN</td>\n",
       "      <td>NaN</td>\n",
       "      <td>NaN</td>\n",
       "      <td>NaN</td>\n",
       "      <td>NaN</td>\n",
       "      <td>NaN</td>\n",
       "      <td>NaN</td>\n",
       "      <td>PAPR filter,\\rhelmet\\rcover</td>\n",
       "      <td>NaN</td>\n",
       "      <td>NaN</td>\n",
       "      <td>NaN</td>\n",
       "      <td>NaN</td>\n",
       "    </tr>\n",
       "    <tr>\n",
       "      <th>1142</th>\n",
       "      <td>disposable,\\r/\\rBentonKadlecGown,\\r03/10/20200...</td>\n",
       "      <td>NaN</td>\n",
       "      <td>NaN</td>\n",
       "      <td>NaN</td>\n",
       "      <td>NaN</td>\n",
       "      <td>NaN</td>\n",
       "      <td>NaN</td>\n",
       "      <td>NaN</td>\n",
       "      <td>disposable,\\r/</td>\n",
       "      <td>NaN</td>\n",
       "      <td>NaN</td>\n",
       "      <td>NaN</td>\n",
       "      <td>NaN</td>\n",
       "    </tr>\n",
       "    <tr>\n",
       "      <th>1212</th>\n",
       "      <td>Logistics\\r02/16/202003/21/2020KingDOH 0216.16...</td>\n",
       "      <td>NaN</td>\n",
       "      <td>NaN</td>\n",
       "      <td>NaN</td>\n",
       "      <td>NaN</td>\n",
       "      <td>NaN</td>\n",
       "      <td>NaN</td>\n",
       "      <td>NaN</td>\n",
       "      <td>NaN</td>\n",
       "      <td>NaN</td>\n",
       "      <td>NaN</td>\n",
       "      <td>NaN</td>\n",
       "      <td>NaN</td>\n",
       "    </tr>\n",
       "    <tr>\n",
       "      <th>1265</th>\n",
       "      <td>PH­\\rMedical Staff for\\r03/14/202003/16/2020Ki...</td>\n",
       "      <td>03/14/2020\\r13:41:14</td>\n",
       "      <td>03/16/2020\\r09:04:39</td>\n",
       "      <td>King\\rSeattle</td>\n",
       "      <td>PHSKC</td>\n",
       "      <td>PH­\\r202031413874\\rKC­\\r202031413874</td>\n",
       "      <td>WA­\\r202031413874</td>\n",
       "      <td>NaN</td>\n",
       "      <td>Medical Staff for\\rCongregate Care\\rFacilities</td>\n",
       "      <td>Incident\\rStabilization</td>\n",
       "      <td>County</td>\n",
       "      <td>Assigned</td>\n",
       "      <td>NaN</td>\n",
       "    </tr>\n",
       "    <tr>\n",
       "      <th>1278</th>\n",
       "      <td>NaN</td>\n",
       "      <td>NaN</td>\n",
       "      <td>NaN</td>\n",
       "      <td>NaN</td>\n",
       "      <td>NaN</td>\n",
       "      <td>NaN</td>\n",
       "      <td>NaN</td>\n",
       "      <td>Authority</td>\n",
       "      <td>NaN</td>\n",
       "      <td>NaN</td>\n",
       "      <td>NaN</td>\n",
       "      <td>NaN</td>\n",
       "      <td>NaN</td>\n",
       "    </tr>\n",
       "    <tr>\n",
       "      <th>1297</th>\n",
       "      <td>NaN</td>\n",
       "      <td>03/23/2020\\r16:31:57</td>\n",
       "      <td>03/24/2020\\r09:47:43</td>\n",
       "      <td>King\\rTukwila</td>\n",
       "      <td>Cascade\\rBehavioral\\rHospital</td>\n",
       "      <td>PH­\\r202032316329,\\rRR 336b\\rKC­\\r202032316329</td>\n",
       "      <td>WA­\\r202032316329</td>\n",
       "      <td>NaN</td>\n",
       "      <td>RR 336b (DO NOT\\rREMOVE) ­\\rDisinfectant for\\r...</td>\n",
       "      <td>Property\\rPreservation</td>\n",
       "      <td>County</td>\n",
       "      <td>Unassigned</td>\n",
       "      <td>NaN</td>\n",
       "    </tr>\n",
       "    <tr>\n",
       "      <th>1307</th>\n",
       "      <td>NaN</td>\n",
       "      <td>03/24/2020\\r09:26:16</td>\n",
       "      <td>03/24/2020\\r09:29:38</td>\n",
       "      <td>Pacific\\rChinook\\rIndian\\rTribe</td>\n",
       "      <td>Pacific County\\rEOC</td>\n",
       "      <td>0</td>\n",
       "      <td>WA­\\r20203249193</td>\n",
       "      <td>NaN</td>\n",
       "      <td>Test Test</td>\n",
       "      <td>NaN</td>\n",
       "      <td>County</td>\n",
       "      <td>Unassigned</td>\n",
       "      <td>NaN</td>\n",
       "    </tr>\n",
       "    <tr>\n",
       "      <th>1311</th>\n",
       "      <td>NaN</td>\n",
       "      <td>NaN</td>\n",
       "      <td>NaN</td>\n",
       "      <td>NaN</td>\n",
       "      <td>NaN</td>\n",
       "      <td>NaN</td>\n",
       "      <td>NaN</td>\n",
       "      <td>Disposable</td>\n",
       "      <td>NaN</td>\n",
       "      <td>NaN</td>\n",
       "      <td>NaN</td>\n",
       "      <td>NaN</td>\n",
       "      <td>NaN</td>\n",
       "    </tr>\n",
       "    <tr>\n",
       "      <th>1338</th>\n",
       "      <td>NaN</td>\n",
       "      <td>NaN</td>\n",
       "      <td>NaN</td>\n",
       "      <td>NaN</td>\n",
       "      <td>NaN</td>\n",
       "      <td>NaN</td>\n",
       "      <td>NaN</td>\n",
       "      <td>PPE For Law\\rEnforcement\\rFirst\\rResponders</td>\n",
       "      <td>NaN</td>\n",
       "      <td>NaN</td>\n",
       "      <td>NaN</td>\n",
       "      <td>NaN</td>\n",
       "      <td>NaN</td>\n",
       "    </tr>\n",
       "    <tr>\n",
       "      <th>1344</th>\n",
       "      <td>NaN</td>\n",
       "      <td>NaN</td>\n",
       "      <td>NaN</td>\n",
       "      <td>NaN</td>\n",
       "      <td>NaN</td>\n",
       "      <td>NaN</td>\n",
       "      <td>NaN</td>\n",
       "      <td>exam, large /\\rgloves, exam\\rXL / gown,\\rdispo...</td>\n",
       "      <td>NaN</td>\n",
       "      <td>NaN</td>\n",
       "      <td>NaN</td>\n",
       "      <td>NaN</td>\n",
       "      <td>NaN</td>\n",
       "    </tr>\n",
       "    <tr>\n",
       "      <th>1363</th>\n",
       "      <td>health/safety\\rKitsap County\\rsupplies for\\r03...</td>\n",
       "      <td>03/12/2020\\r11:55:33</td>\n",
       "      <td>03/21/2020\\r18:11:41</td>\n",
       "      <td>Kitsap\\rBremerton</td>\n",
       "      <td>Kitsap County\\rAdministrative\\rServices\\rDepar...</td>\n",
       "      <td>Kitsap ­ 014</td>\n",
       "      <td>WA­\\r202031211857</td>\n",
       "      <td>NaN</td>\n",
       "      <td>health/safety\\rsupplies for\\rTier 4\\rcongregat...</td>\n",
       "      <td>NaN</td>\n",
       "      <td>County</td>\n",
       "      <td>Unassigned</td>\n",
       "      <td>NaN</td>\n",
       "    </tr>\n",
       "    <tr>\n",
       "      <th>1386</th>\n",
       "      <td>NaN</td>\n",
       "      <td>NaN</td>\n",
       "      <td>NaN</td>\n",
       "      <td>NaN</td>\n",
       "      <td>NaN</td>\n",
       "      <td>NaN</td>\n",
       "      <td>NaN</td>\n",
       "      <td>eyewear, and\\rgloves</td>\n",
       "      <td>NaN</td>\n",
       "      <td>NaN</td>\n",
       "      <td>NaN</td>\n",
       "      <td>NaN</td>\n",
       "      <td>NaN</td>\n",
       "    </tr>\n",
       "    <tr>\n",
       "      <th>1425</th>\n",
       "      <td>NaN</td>\n",
       "      <td>NaN</td>\n",
       "      <td>NaN</td>\n",
       "      <td>NaN</td>\n",
       "      <td>NaN</td>\n",
       "      <td>NaN</td>\n",
       "      <td>NaN</td>\n",
       "      <td>Large, / PPE</td>\n",
       "      <td>NaN</td>\n",
       "      <td>NaN</td>\n",
       "      <td>NaN</td>\n",
       "      <td>NaN</td>\n",
       "      <td>NaN</td>\n",
       "    </tr>\n",
       "    <tr>\n",
       "      <th>1452</th>\n",
       "      <td>202031113581\\rPSJH\\rSNOHOMISH\\rProvidence\\r03/...</td>\n",
       "      <td>NaN</td>\n",
       "      <td>NaN</td>\n",
       "      <td>NaN</td>\n",
       "      <td>NaN</td>\n",
       "      <td>2.02031E+11</td>\n",
       "      <td>NaN</td>\n",
       "      <td>NaN</td>\n",
       "      <td>NaN</td>\n",
       "      <td>NaN</td>\n",
       "      <td>NaN</td>\n",
       "      <td>NaN</td>\n",
       "      <td>NaN</td>\n",
       "    </tr>\n",
       "    <tr>\n",
       "      <th>1478</th>\n",
       "      <td>wipe\\rshields, face /\\rmask, surgical /\\rfilte...</td>\n",
       "      <td>NaN</td>\n",
       "      <td>NaN</td>\n",
       "      <td>NaN</td>\n",
       "      <td>NaN</td>\n",
       "      <td>NaN</td>\n",
       "      <td>NaN</td>\n",
       "      <td>NaN</td>\n",
       "      <td>wipe</td>\n",
       "      <td>NaN</td>\n",
       "      <td>NaN</td>\n",
       "      <td>NaN</td>\n",
       "      <td>NaN</td>\n",
       "    </tr>\n",
       "    <tr>\n",
       "      <th>1492</th>\n",
       "      <td>NOT REMOVE)\\rPH­\\r­ Disinfectant\\r03/21/202003...</td>\n",
       "      <td>03/21/2020\\r14:03:33</td>\n",
       "      <td>03/21/2020\\r20:50:24</td>\n",
       "      <td>King\\rSeattle</td>\n",
       "      <td>Ballard Center</td>\n",
       "      <td>PH­\\r202032114116,\\rRR 382</td>\n",
       "      <td>WA­\\r202032114116</td>\n",
       "      <td>NaN</td>\n",
       "      <td>NOT REMOVE)\\r­ Disinfectant\\rSupplies and\\rThe...</td>\n",
       "      <td>Incident\\rStabilization</td>\n",
       "      <td>County</td>\n",
       "      <td>Unassigned</td>\n",
       "      <td>NaN</td>\n",
       "    </tr>\n",
       "    <tr>\n",
       "      <th>1574</th>\n",
       "      <td>1/31/20</td>\n",
       "      <td>02/21/2020\\r08:37:25</td>\n",
       "      <td>King\\rSeattle</td>\n",
       "      <td>PHSKC</td>\n",
       "      <td>PH­\\r20202617656</td>\n",
       "      <td>WA­\\r20202617656</td>\n",
       "      <td>NaN</td>\n",
       "      <td>RR 110 ­ Goat Hill\\rGarage After Hours\\rAccess</td>\n",
       "      <td>Incident\\rStabilization</td>\n",
       "      <td>City</td>\n",
       "      <td>Completed</td>\n",
       "      <td>Completed</td>\n",
       "      <td>Logistics Section</td>\n",
       "    </tr>\n",
       "    <tr>\n",
       "      <th>1626</th>\n",
       "      <td>NaN</td>\n",
       "      <td>NaN</td>\n",
       "      <td>NaN</td>\n",
       "      <td>NaN</td>\n",
       "      <td>NaN</td>\n",
       "      <td>NaN</td>\n",
       "      <td>NaN</td>\n",
       "      <td>facility</td>\n",
       "      <td>NaN</td>\n",
       "      <td>NaN</td>\n",
       "      <td>NaN</td>\n",
       "      <td>NaN</td>\n",
       "      <td>NaN</td>\n",
       "    </tr>\n",
       "    <tr>\n",
       "      <th>1656</th>\n",
       "      <td>Department\\r03/11/202003/19/2020Thurston00039W...</td>\n",
       "      <td>03/11/2020\\r12:08:49</td>\n",
       "      <td>03/19/2020\\r12:47:22</td>\n",
       "      <td>Thurston\\rTumwater</td>\n",
       "      <td>Department\\rof\\rCorrections</td>\n",
       "      <td>39</td>\n",
       "      <td>WA­\\r202031112737</td>\n",
       "      <td>NaN</td>\n",
       "      <td>Hand Sanitizer</td>\n",
       "      <td>Life Saving</td>\n",
       "      <td>City</td>\n",
       "      <td>Unassigned</td>\n",
       "      <td>NaN</td>\n",
       "    </tr>\n",
       "    <tr>\n",
       "      <th>1702</th>\n",
       "      <td>NaN</td>\n",
       "      <td>NaN</td>\n",
       "      <td>NaN</td>\n",
       "      <td>NaN</td>\n",
       "      <td>NaN</td>\n",
       "      <td>NaN</td>\n",
       "      <td>NaN</td>\n",
       "      <td>8/12oz, 1000</td>\n",
       "      <td>NaN</td>\n",
       "      <td>NaN</td>\n",
       "      <td>NaN</td>\n",
       "      <td>NaN</td>\n",
       "      <td>NaN</td>\n",
       "    </tr>\n",
       "    <tr>\n",
       "      <th>1709</th>\n",
       "      <td>NaN</td>\n",
       "      <td>NaN</td>\n",
       "      <td>NaN</td>\n",
       "      <td>NaN</td>\n",
       "      <td>NaN</td>\n",
       "      <td>NaN</td>\n",
       "      <td>NaN</td>\n",
       "      <td>Face Masks,\\rGoggles, Hand\\rSanitizer</td>\n",
       "      <td>NaN</td>\n",
       "      <td>NaN</td>\n",
       "      <td>NaN</td>\n",
       "      <td>NaN</td>\n",
       "      <td>NaN</td>\n",
       "    </tr>\n",
       "  </tbody>\n",
       "</table>\n",
       "</div>"
      ],
      "text/plain": [
       "                                          original_date           update_date  \\\n",
       "609   Snohomish1234\\r03/21/202003/21/2020Aacres WA,W...  03/21/2020\\r13:58:12   \n",
       "641   DepartmentWA­\\r202031413954\\rVirginia\\rMask, N...                   NaN   \n",
       "681   PH­RR 213S Evening\\r03/04/202003/12/2020KingPH...  03/04/2020\\r15:48:10   \n",
       "767   SkagitSedro­\\r03/17/202003/17/2020WA­Incident\\...  03/17/2020\\r08:40:10   \n",
       "817                            safety / Hand\\rSanitizer                   NaN   \n",
       "831   20­0265­001Staffing, OSC\\r03/14/202003/24/2020...                   NaN   \n",
       "869   Cascade Valley\\r03/20/202003/21/2020SnohomishS...  03/20/2020\\r12:09:35   \n",
       "919   BEL­\\r03/09/202003/19/2020KingCity ofWA­Incide...  03/09/2020\\r13:03:04   \n",
       "998   Bremerton\\rSupplies/PPE for\\r03/22/202003/22/2...  03/22/2020\\r11:40:40   \n",
       "999   Snohomish15000\\r03/18/202003/19/2020SnohomishW...  03/18/2020\\r14:51:59   \n",
       "1045  Hand\\rSanitizer\\rMask,\\rSurgical /\\rLewis Coun...                   NaN   \n",
       "1101  PH­\\r03/03/202003/03/2020KingWA­Incident\\rPHSK...  03/03/2020\\r01:03:52   \n",
       "1121                                                NaN                   NaN   \n",
       "1128  PAPR filter,\\rhelmet\\rcover\\rPH­\\r202031412687...                   NaN   \n",
       "1142  disposable,\\r/\\rBentonKadlecGown,\\r03/10/20200...                   NaN   \n",
       "1212  Logistics\\r02/16/202003/21/2020KingDOH 0216.16...                   NaN   \n",
       "1265  PH­\\rMedical Staff for\\r03/14/202003/16/2020Ki...  03/14/2020\\r13:41:14   \n",
       "1278                                                NaN                   NaN   \n",
       "1297                                                NaN  03/23/2020\\r16:31:57   \n",
       "1307                                                NaN  03/24/2020\\r09:26:16   \n",
       "1311                                                NaN                   NaN   \n",
       "1338                                                NaN                   NaN   \n",
       "1344                                                NaN                   NaN   \n",
       "1363  health/safety\\rKitsap County\\rsupplies for\\r03...  03/12/2020\\r11:55:33   \n",
       "1386                                                NaN                   NaN   \n",
       "1425                                                NaN                   NaN   \n",
       "1452  202031113581\\rPSJH\\rSNOHOMISH\\rProvidence\\r03/...                   NaN   \n",
       "1478  wipe\\rshields, face /\\rmask, surgical /\\rfilte...                   NaN   \n",
       "1492  NOT REMOVE)\\rPH­\\r­ Disinfectant\\r03/21/202003...  03/21/2020\\r14:03:33   \n",
       "1574                                            1/31/20  02/21/2020\\r08:37:25   \n",
       "1626                                                NaN                   NaN   \n",
       "1656  Department\\r03/11/202003/19/2020Thurston00039W...  03/11/2020\\r12:08:49   \n",
       "1702                                                NaN                   NaN   \n",
       "1709                                                NaN                   NaN   \n",
       "\n",
       "               county_city               originating_agency  \\\n",
       "609   03/21/2020\\r14:01:12    Snohomish\\rMountlake\\rTerrace   \n",
       "641                    NaN                              NaN   \n",
       "681   03/12/2020\\r08:27:37                    King\\rSeattle   \n",
       "767   03/17/2020\\r08:59:19          Skagit\\rSedro­\\rWoolley   \n",
       "817                    NaN                              NaN   \n",
       "831                    NaN                              NaN   \n",
       "869   03/21/2020\\r09:08:23             Snohomish\\rArlington   \n",
       "919   03/19/2020\\r08:52:36                   King\\rBellevue   \n",
       "998   03/22/2020\\r11:55:20                Kitsap\\rBremerton   \n",
       "999   03/19/2020\\r20:24:14               Snohomish\\rEverett   \n",
       "1045                   NaN                              NaN   \n",
       "1101  03/03/2020\\r01:08:09                    King\\rSeattle   \n",
       "1121                   NaN                              DBA   \n",
       "1128                   NaN                              NaN   \n",
       "1142                   NaN                              NaN   \n",
       "1212                   NaN                              NaN   \n",
       "1265  03/16/2020\\r09:04:39                    King\\rSeattle   \n",
       "1278                   NaN                              NaN   \n",
       "1297  03/24/2020\\r09:47:43                    King\\rTukwila   \n",
       "1307  03/24/2020\\r09:29:38  Pacific\\rChinook\\rIndian\\rTribe   \n",
       "1311                   NaN                              NaN   \n",
       "1338                   NaN                              NaN   \n",
       "1344                   NaN                              NaN   \n",
       "1363  03/21/2020\\r18:11:41                Kitsap\\rBremerton   \n",
       "1386                   NaN                              NaN   \n",
       "1425                   NaN                              NaN   \n",
       "1452                   NaN                              NaN   \n",
       "1478                   NaN                              NaN   \n",
       "1492  03/21/2020\\r20:50:24                    King\\rSeattle   \n",
       "1574         King\\rSeattle                            PHSKC   \n",
       "1626                   NaN                              NaN   \n",
       "1656  03/19/2020\\r12:47:22               Thurston\\rTumwater   \n",
       "1702                   NaN                              NaN   \n",
       "1709                   NaN                              NaN   \n",
       "\n",
       "                             jurisdictiont_tracking_num  \\\n",
       "609                                Aacres WA,\\rLLC­ SHD   \n",
       "641                                          Department   \n",
       "681                                       PHSKC CD\\rEpi   \n",
       "767                             Sedro­\\rWoolley\\rPolice   \n",
       "817                                                 NaN   \n",
       "831                                                 NaN   \n",
       "869    Cascade Valley\\rSenior Living­\\rSHD/BULK Med\\rT3   \n",
       "919                                   City of\\rBellevue   \n",
       "998              Bremerton\\rFD ­ Tier 1\\rEMS/FR\\ragency   \n",
       "999                        Snohomish\\rCounty ­\\rDEM ECC   \n",
       "1045                                                NaN   \n",
       "1101                                              PHSKC   \n",
       "1121                                                NaN   \n",
       "1128                                                NaN   \n",
       "1142                                                NaN   \n",
       "1212                                                NaN   \n",
       "1265                                              PHSKC   \n",
       "1278                                                NaN   \n",
       "1297                      Cascade\\rBehavioral\\rHospital   \n",
       "1307                                Pacific County\\rEOC   \n",
       "1311                                                NaN   \n",
       "1338                                                NaN   \n",
       "1344                                                NaN   \n",
       "1363  Kitsap County\\rAdministrative\\rServices\\rDepar...   \n",
       "1386                                                NaN   \n",
       "1425                                                NaN   \n",
       "1452                                                NaN   \n",
       "1478                                                NaN   \n",
       "1492                                     Ballard Center   \n",
       "1574                                   PH­\\r20202617656   \n",
       "1626                                                NaN   \n",
       "1656                        Department\\rof\\rCorrections   \n",
       "1702                                                NaN   \n",
       "1709                                                NaN   \n",
       "\n",
       "                                  state_tracking_num emac_federal_ma_num  \\\n",
       "609                       1234\\rSnoco­\\r202032113133   WA­\\r202032113133   \n",
       "641                                WA­\\r202031413954                 NaN   \n",
       "681                                  PH­\\r2020341514     WA­\\r2020341514   \n",
       "767                                      2.02003E+11    WA­\\r20203178748   \n",
       "817                                              NaN                 NaN   \n",
       "831                                              NaN                 NaN   \n",
       "869                             SnoCo­\\r202032012958   WA­\\r202032012958   \n",
       "919                                BEL­\\r20203913808    WA­\\r20203913808   \n",
       "998                                 Kitsap ­\\r046BFD   WA­\\r202032211536   \n",
       "999                      15000\\rSnoCo­\\r202031814581   WA­\\r202031814581   \n",
       "1045                                             NaN                 NaN   \n",
       "1101                                 PH­\\r2020331930     WA­\\r2020331930   \n",
       "1121                                             NaN                 NaN   \n",
       "1128                                             NaN                 NaN   \n",
       "1142                                             NaN                 NaN   \n",
       "1212                                             NaN                 NaN   \n",
       "1265            PH­\\r202031413874\\rKC­\\r202031413874   WA­\\r202031413874   \n",
       "1278                                             NaN                 NaN   \n",
       "1297  PH­\\r202032316329,\\rRR 336b\\rKC­\\r202032316329   WA­\\r202032316329   \n",
       "1307                                               0    WA­\\r20203249193   \n",
       "1311                                             NaN                 NaN   \n",
       "1338                                             NaN                 NaN   \n",
       "1344                                             NaN                 NaN   \n",
       "1363                                    Kitsap ­ 014   WA­\\r202031211857   \n",
       "1386                                             NaN                 NaN   \n",
       "1425                                             NaN                 NaN   \n",
       "1452                                     2.02031E+11                 NaN   \n",
       "1478                                             NaN                 NaN   \n",
       "1492                      PH­\\r202032114116,\\rRR 382   WA­\\r202032114116   \n",
       "1574                                WA­\\r20202617656                 NaN   \n",
       "1626                                             NaN                 NaN   \n",
       "1656                                              39   WA­\\r202031112737   \n",
       "1702                                             NaN                 NaN   \n",
       "1709                                             NaN                 NaN   \n",
       "\n",
       "                                                subject  \\\n",
       "609                                                 NaN   \n",
       "641                                                 NaN   \n",
       "681                                                 NaN   \n",
       "767                                                 NaN   \n",
       "817                                                 NaN   \n",
       "831                                                 NaN   \n",
       "869                                                 NaN   \n",
       "919                                                 NaN   \n",
       "998                                                 NaN   \n",
       "999                                                 NaN   \n",
       "1045                                                NaN   \n",
       "1101                                                NaN   \n",
       "1121                                          sanitizer   \n",
       "1128                                                NaN   \n",
       "1142                                                NaN   \n",
       "1212                                                NaN   \n",
       "1265                                                NaN   \n",
       "1278                                          Authority   \n",
       "1297                                                NaN   \n",
       "1307                                                NaN   \n",
       "1311                                         Disposable   \n",
       "1338        PPE For Law\\rEnforcement\\rFirst\\rResponders   \n",
       "1344  exam, large /\\rgloves, exam\\rXL / gown,\\rdispo...   \n",
       "1363                                                NaN   \n",
       "1386                               eyewear, and\\rgloves   \n",
       "1425                                       Large, / PPE   \n",
       "1452                                                NaN   \n",
       "1478                                                NaN   \n",
       "1492                                                NaN   \n",
       "1574     RR 110 ­ Goat Hill\\rGarage After Hours\\rAccess   \n",
       "1626                                           facility   \n",
       "1656                                                NaN   \n",
       "1702                                       8/12oz, 1000   \n",
       "1709              Face Masks,\\rGoggles, Hand\\rSanitizer   \n",
       "\n",
       "                                               priority  \\\n",
       "609                                               Glove   \n",
       "641                                                 NaN   \n",
       "681            RR 213S Evening\\rEvergreen Testing\\rTeam   \n",
       "767               Mask,surgical/Mask,N95/gloves,nitrile   \n",
       "817                            safety / Hand\\rSanitizer   \n",
       "831                                                 NaN   \n",
       "869                                     Mask, procedure   \n",
       "919                                          N­95 Masks   \n",
       "998             Supplies/PPE for\\rTier 1 EMS/FR\\ragency   \n",
       "999                                   Filters, N95 Mask   \n",
       "1045                                    Hand\\rSanitizer   \n",
       "1101                      RR 039 ­ Meals for HMAC Staff   \n",
       "1121                                                NaN   \n",
       "1128                        PAPR filter,\\rhelmet\\rcover   \n",
       "1142                                     disposable,\\r/   \n",
       "1212                                                NaN   \n",
       "1265     Medical Staff for\\rCongregate Care\\rFacilities   \n",
       "1278                                                NaN   \n",
       "1297  RR 336b (DO NOT\\rREMOVE) ­\\rDisinfectant for\\r...   \n",
       "1307                                          Test Test   \n",
       "1311                                                NaN   \n",
       "1338                                                NaN   \n",
       "1344                                                NaN   \n",
       "1363  health/safety\\rsupplies for\\rTier 4\\rcongregat...   \n",
       "1386                                                NaN   \n",
       "1425                                                NaN   \n",
       "1452                                                NaN   \n",
       "1478                                               wipe   \n",
       "1492  NOT REMOVE)\\r­ Disinfectant\\rSupplies and\\rThe...   \n",
       "1574                            Incident\\rStabilization   \n",
       "1626                                                NaN   \n",
       "1656                                     Hand Sanitizer   \n",
       "1702                                                NaN   \n",
       "1709                                                NaN   \n",
       "\n",
       "                    worked_by overall_status assignment_status  \\\n",
       "609   Incident\\rStabilization         County          Accepted   \n",
       "641                       NaN            NaN               NaN   \n",
       "681   Incident\\rStabilization           City        Unassigned   \n",
       "767   Incident\\rStabilization         County         Completed   \n",
       "817                       NaN            NaN               NaN   \n",
       "831                       NaN            NaN               NaN   \n",
       "869   Incident\\rStabilization         County          Assigned   \n",
       "919   Incident\\rStabilization           City         Completed   \n",
       "998                       NaN         County        Unassigned   \n",
       "999   Incident\\rStabilization         County          Assigned   \n",
       "1045                      NaN            NaN               NaN   \n",
       "1101  Incident\\rStabilization           City         Completed   \n",
       "1121                      NaN            NaN               NaN   \n",
       "1128                      NaN            NaN               NaN   \n",
       "1142                      NaN            NaN               NaN   \n",
       "1212                      NaN            NaN               NaN   \n",
       "1265  Incident\\rStabilization         County          Assigned   \n",
       "1278                      NaN            NaN               NaN   \n",
       "1297   Property\\rPreservation         County        Unassigned   \n",
       "1307                      NaN         County        Unassigned   \n",
       "1311                      NaN            NaN               NaN   \n",
       "1338                      NaN            NaN               NaN   \n",
       "1344                      NaN            NaN               NaN   \n",
       "1363                      NaN         County        Unassigned   \n",
       "1386                      NaN            NaN               NaN   \n",
       "1425                      NaN            NaN               NaN   \n",
       "1452                      NaN            NaN               NaN   \n",
       "1478                      NaN            NaN               NaN   \n",
       "1492  Incident\\rStabilization         County        Unassigned   \n",
       "1574                     City      Completed         Completed   \n",
       "1626                      NaN            NaN               NaN   \n",
       "1656              Life Saving           City        Unassigned   \n",
       "1702                      NaN            NaN               NaN   \n",
       "1709                      NaN            NaN               NaN   \n",
       "\n",
       "            assigned_to  \n",
       "609                 NaN  \n",
       "641                 NaN  \n",
       "681                 NaN  \n",
       "767                 NaN  \n",
       "817                 NaN  \n",
       "831                 NaN  \n",
       "869                 NaN  \n",
       "919                 NaN  \n",
       "998                 NaN  \n",
       "999                 NaN  \n",
       "1045                NaN  \n",
       "1101                NaN  \n",
       "1121                NaN  \n",
       "1128                NaN  \n",
       "1142                NaN  \n",
       "1212                NaN  \n",
       "1265                NaN  \n",
       "1278                NaN  \n",
       "1297                NaN  \n",
       "1307                NaN  \n",
       "1311                NaN  \n",
       "1338                NaN  \n",
       "1344                NaN  \n",
       "1363                NaN  \n",
       "1386                NaN  \n",
       "1425                NaN  \n",
       "1452                NaN  \n",
       "1478                NaN  \n",
       "1492                NaN  \n",
       "1574  Logistics Section  \n",
       "1626                NaN  \n",
       "1656                NaN  \n",
       "1702                NaN  \n",
       "1709                NaN  "
      ]
     },
     "execution_count": 9,
     "metadata": {},
     "output_type": "execute_result"
    }
   ],
   "source": [
    "df_noise_values"
   ]
  },
  {
   "cell_type": "markdown",
   "metadata": {},
   "source": [
    "It seems clear that for a lot of the records in 'df_noise_values' where the first column contains noise, the values are shifted one column to ther right. Let's correct that."
   ]
  },
  {
   "cell_type": "code",
   "execution_count": 10,
   "metadata": {
    "scrolled": true
   },
   "outputs": [
    {
     "data": {
      "text/html": [
       "<div>\n",
       "<style scoped>\n",
       "    .dataframe tbody tr th:only-of-type {\n",
       "        vertical-align: middle;\n",
       "    }\n",
       "\n",
       "    .dataframe tbody tr th {\n",
       "        vertical-align: top;\n",
       "    }\n",
       "\n",
       "    .dataframe thead th {\n",
       "        text-align: right;\n",
       "    }\n",
       "</style>\n",
       "<table border=\"1\" class=\"dataframe\">\n",
       "  <thead>\n",
       "    <tr style=\"text-align: right;\">\n",
       "      <th></th>\n",
       "      <th>original_date</th>\n",
       "      <th>update_date</th>\n",
       "      <th>county_city</th>\n",
       "      <th>originating_agency</th>\n",
       "      <th>jurisdictiont_tracking_num</th>\n",
       "      <th>state_tracking_num</th>\n",
       "      <th>emac_federal_ma_num</th>\n",
       "      <th>subject</th>\n",
       "      <th>priority</th>\n",
       "      <th>worked_by</th>\n",
       "      <th>overall_status</th>\n",
       "      <th>assignment_status</th>\n",
       "      <th>assigned_to</th>\n",
       "    </tr>\n",
       "  </thead>\n",
       "  <tbody>\n",
       "    <tr>\n",
       "      <th>609</th>\n",
       "      <td>03/21/2020\\r13:58:12</td>\n",
       "      <td>03/21/2020\\r14:01:12</td>\n",
       "      <td>Snohomish\\rMountlake\\rTerrace</td>\n",
       "      <td>Aacres WA,\\rLLC­ SHD</td>\n",
       "      <td>1234\\rSnoco­\\r202032113133</td>\n",
       "      <td>WA­\\r202032113133</td>\n",
       "      <td>NaN</td>\n",
       "      <td>Glove</td>\n",
       "      <td>Incident\\rStabilization</td>\n",
       "      <td>County</td>\n",
       "      <td>Accepted</td>\n",
       "      <td>NaN</td>\n",
       "      <td>NaN</td>\n",
       "    </tr>\n",
       "    <tr>\n",
       "      <th>641</th>\n",
       "      <td>NaN</td>\n",
       "      <td>NaN</td>\n",
       "      <td>NaN</td>\n",
       "      <td>Department</td>\n",
       "      <td>WA­\\r202031413954</td>\n",
       "      <td>NaN</td>\n",
       "      <td>NaN</td>\n",
       "      <td>NaN</td>\n",
       "      <td>NaN</td>\n",
       "      <td>NaN</td>\n",
       "      <td>NaN</td>\n",
       "      <td>NaN</td>\n",
       "      <td>NaN</td>\n",
       "    </tr>\n",
       "    <tr>\n",
       "      <th>681</th>\n",
       "      <td>03/04/2020\\r15:48:10</td>\n",
       "      <td>03/12/2020\\r08:27:37</td>\n",
       "      <td>King\\rSeattle</td>\n",
       "      <td>PHSKC CD\\rEpi</td>\n",
       "      <td>PH­\\r2020341514</td>\n",
       "      <td>WA­\\r2020341514</td>\n",
       "      <td>NaN</td>\n",
       "      <td>RR 213S Evening\\rEvergreen Testing\\rTeam</td>\n",
       "      <td>Incident\\rStabilization</td>\n",
       "      <td>City</td>\n",
       "      <td>Unassigned</td>\n",
       "      <td>NaN</td>\n",
       "      <td>NaN</td>\n",
       "    </tr>\n",
       "    <tr>\n",
       "      <th>767</th>\n",
       "      <td>03/17/2020\\r08:40:10</td>\n",
       "      <td>03/17/2020\\r08:59:19</td>\n",
       "      <td>Skagit\\rSedro­\\rWoolley</td>\n",
       "      <td>Sedro­\\rWoolley\\rPolice</td>\n",
       "      <td>2.02003E+11</td>\n",
       "      <td>WA­\\r20203178748</td>\n",
       "      <td>NaN</td>\n",
       "      <td>Mask,surgical/Mask,N95/gloves,nitrile</td>\n",
       "      <td>Incident\\rStabilization</td>\n",
       "      <td>County</td>\n",
       "      <td>Completed</td>\n",
       "      <td>NaN</td>\n",
       "      <td>NaN</td>\n",
       "    </tr>\n",
       "    <tr>\n",
       "      <th>817</th>\n",
       "      <td>NaN</td>\n",
       "      <td>NaN</td>\n",
       "      <td>NaN</td>\n",
       "      <td>NaN</td>\n",
       "      <td>NaN</td>\n",
       "      <td>NaN</td>\n",
       "      <td>NaN</td>\n",
       "      <td>safety / Hand\\rSanitizer</td>\n",
       "      <td>NaN</td>\n",
       "      <td>NaN</td>\n",
       "      <td>NaN</td>\n",
       "      <td>NaN</td>\n",
       "      <td>NaN</td>\n",
       "    </tr>\n",
       "    <tr>\n",
       "      <th>831</th>\n",
       "      <td>NaN</td>\n",
       "      <td>NaN</td>\n",
       "      <td>NaN</td>\n",
       "      <td>NaN</td>\n",
       "      <td>NaN</td>\n",
       "      <td>NaN</td>\n",
       "      <td>NaN</td>\n",
       "      <td>NaN</td>\n",
       "      <td>NaN</td>\n",
       "      <td>NaN</td>\n",
       "      <td>NaN</td>\n",
       "      <td>NaN</td>\n",
       "      <td>NaN</td>\n",
       "    </tr>\n",
       "    <tr>\n",
       "      <th>869</th>\n",
       "      <td>03/20/2020\\r12:09:35</td>\n",
       "      <td>03/21/2020\\r09:08:23</td>\n",
       "      <td>Snohomish\\rArlington</td>\n",
       "      <td>Cascade Valley\\rSenior Living­\\rSHD/BULK Med\\rT3</td>\n",
       "      <td>SnoCo­\\r202032012958</td>\n",
       "      <td>WA­\\r202032012958</td>\n",
       "      <td>NaN</td>\n",
       "      <td>Mask, procedure</td>\n",
       "      <td>Incident\\rStabilization</td>\n",
       "      <td>County</td>\n",
       "      <td>Assigned</td>\n",
       "      <td>NaN</td>\n",
       "      <td>NaN</td>\n",
       "    </tr>\n",
       "    <tr>\n",
       "      <th>919</th>\n",
       "      <td>03/09/2020\\r13:03:04</td>\n",
       "      <td>03/19/2020\\r08:52:36</td>\n",
       "      <td>King\\rBellevue</td>\n",
       "      <td>City of\\rBellevue</td>\n",
       "      <td>BEL­\\r20203913808</td>\n",
       "      <td>WA­\\r20203913808</td>\n",
       "      <td>NaN</td>\n",
       "      <td>N­95 Masks</td>\n",
       "      <td>Incident\\rStabilization</td>\n",
       "      <td>City</td>\n",
       "      <td>Completed</td>\n",
       "      <td>NaN</td>\n",
       "      <td>NaN</td>\n",
       "    </tr>\n",
       "    <tr>\n",
       "      <th>998</th>\n",
       "      <td>03/22/2020\\r11:40:40</td>\n",
       "      <td>03/22/2020\\r11:55:20</td>\n",
       "      <td>Kitsap\\rBremerton</td>\n",
       "      <td>Bremerton\\rFD ­ Tier 1\\rEMS/FR\\ragency</td>\n",
       "      <td>Kitsap ­\\r046BFD</td>\n",
       "      <td>WA­\\r202032211536</td>\n",
       "      <td>NaN</td>\n",
       "      <td>Supplies/PPE for\\rTier 1 EMS/FR\\ragency</td>\n",
       "      <td>NaN</td>\n",
       "      <td>County</td>\n",
       "      <td>Unassigned</td>\n",
       "      <td>NaN</td>\n",
       "      <td>NaN</td>\n",
       "    </tr>\n",
       "    <tr>\n",
       "      <th>999</th>\n",
       "      <td>03/18/2020\\r14:51:59</td>\n",
       "      <td>03/19/2020\\r20:24:14</td>\n",
       "      <td>Snohomish\\rEverett</td>\n",
       "      <td>Snohomish\\rCounty ­\\rDEM ECC</td>\n",
       "      <td>15000\\rSnoCo­\\r202031814581</td>\n",
       "      <td>WA­\\r202031814581</td>\n",
       "      <td>NaN</td>\n",
       "      <td>Filters, N95 Mask</td>\n",
       "      <td>Incident\\rStabilization</td>\n",
       "      <td>County</td>\n",
       "      <td>Assigned</td>\n",
       "      <td>NaN</td>\n",
       "      <td>NaN</td>\n",
       "    </tr>\n",
       "    <tr>\n",
       "      <th>1045</th>\n",
       "      <td>NaN</td>\n",
       "      <td>NaN</td>\n",
       "      <td>NaN</td>\n",
       "      <td>NaN</td>\n",
       "      <td>NaN</td>\n",
       "      <td>NaN</td>\n",
       "      <td>NaN</td>\n",
       "      <td>Hand\\rSanitizer</td>\n",
       "      <td>NaN</td>\n",
       "      <td>NaN</td>\n",
       "      <td>NaN</td>\n",
       "      <td>NaN</td>\n",
       "      <td>NaN</td>\n",
       "    </tr>\n",
       "    <tr>\n",
       "      <th>1101</th>\n",
       "      <td>03/03/2020\\r01:03:52</td>\n",
       "      <td>03/03/2020\\r01:08:09</td>\n",
       "      <td>King\\rSeattle</td>\n",
       "      <td>PHSKC</td>\n",
       "      <td>PH­\\r2020331930</td>\n",
       "      <td>WA­\\r2020331930</td>\n",
       "      <td>NaN</td>\n",
       "      <td>RR 039 ­ Meals for HMAC Staff</td>\n",
       "      <td>Incident\\rStabilization</td>\n",
       "      <td>City</td>\n",
       "      <td>Completed</td>\n",
       "      <td>NaN</td>\n",
       "      <td>NaN</td>\n",
       "    </tr>\n",
       "    <tr>\n",
       "      <th>1121</th>\n",
       "      <td>NaN</td>\n",
       "      <td>NaN</td>\n",
       "      <td>DBA</td>\n",
       "      <td>NaN</td>\n",
       "      <td>NaN</td>\n",
       "      <td>NaN</td>\n",
       "      <td>sanitizer</td>\n",
       "      <td>NaN</td>\n",
       "      <td>NaN</td>\n",
       "      <td>NaN</td>\n",
       "      <td>NaN</td>\n",
       "      <td>NaN</td>\n",
       "      <td>NaN</td>\n",
       "    </tr>\n",
       "    <tr>\n",
       "      <th>1128</th>\n",
       "      <td>NaN</td>\n",
       "      <td>NaN</td>\n",
       "      <td>NaN</td>\n",
       "      <td>NaN</td>\n",
       "      <td>NaN</td>\n",
       "      <td>NaN</td>\n",
       "      <td>NaN</td>\n",
       "      <td>PAPR filter,\\rhelmet\\rcover</td>\n",
       "      <td>NaN</td>\n",
       "      <td>NaN</td>\n",
       "      <td>NaN</td>\n",
       "      <td>NaN</td>\n",
       "      <td>NaN</td>\n",
       "    </tr>\n",
       "    <tr>\n",
       "      <th>1142</th>\n",
       "      <td>NaN</td>\n",
       "      <td>NaN</td>\n",
       "      <td>NaN</td>\n",
       "      <td>NaN</td>\n",
       "      <td>NaN</td>\n",
       "      <td>NaN</td>\n",
       "      <td>NaN</td>\n",
       "      <td>disposable,\\r/</td>\n",
       "      <td>NaN</td>\n",
       "      <td>NaN</td>\n",
       "      <td>NaN</td>\n",
       "      <td>NaN</td>\n",
       "      <td>NaN</td>\n",
       "    </tr>\n",
       "    <tr>\n",
       "      <th>1212</th>\n",
       "      <td>NaN</td>\n",
       "      <td>NaN</td>\n",
       "      <td>NaN</td>\n",
       "      <td>NaN</td>\n",
       "      <td>NaN</td>\n",
       "      <td>NaN</td>\n",
       "      <td>NaN</td>\n",
       "      <td>NaN</td>\n",
       "      <td>NaN</td>\n",
       "      <td>NaN</td>\n",
       "      <td>NaN</td>\n",
       "      <td>NaN</td>\n",
       "      <td>NaN</td>\n",
       "    </tr>\n",
       "    <tr>\n",
       "      <th>1265</th>\n",
       "      <td>03/14/2020\\r13:41:14</td>\n",
       "      <td>03/16/2020\\r09:04:39</td>\n",
       "      <td>King\\rSeattle</td>\n",
       "      <td>PHSKC</td>\n",
       "      <td>PH­\\r202031413874\\rKC­\\r202031413874</td>\n",
       "      <td>WA­\\r202031413874</td>\n",
       "      <td>NaN</td>\n",
       "      <td>Medical Staff for\\rCongregate Care\\rFacilities</td>\n",
       "      <td>Incident\\rStabilization</td>\n",
       "      <td>County</td>\n",
       "      <td>Assigned</td>\n",
       "      <td>NaN</td>\n",
       "      <td>NaN</td>\n",
       "    </tr>\n",
       "    <tr>\n",
       "      <th>1278</th>\n",
       "      <td>NaN</td>\n",
       "      <td>NaN</td>\n",
       "      <td>NaN</td>\n",
       "      <td>NaN</td>\n",
       "      <td>NaN</td>\n",
       "      <td>NaN</td>\n",
       "      <td>Authority</td>\n",
       "      <td>NaN</td>\n",
       "      <td>NaN</td>\n",
       "      <td>NaN</td>\n",
       "      <td>NaN</td>\n",
       "      <td>NaN</td>\n",
       "      <td>NaN</td>\n",
       "    </tr>\n",
       "    <tr>\n",
       "      <th>1297</th>\n",
       "      <td>03/23/2020\\r16:31:57</td>\n",
       "      <td>03/24/2020\\r09:47:43</td>\n",
       "      <td>King\\rTukwila</td>\n",
       "      <td>Cascade\\rBehavioral\\rHospital</td>\n",
       "      <td>PH­\\r202032316329,\\rRR 336b\\rKC­\\r202032316329</td>\n",
       "      <td>WA­\\r202032316329</td>\n",
       "      <td>NaN</td>\n",
       "      <td>RR 336b (DO NOT\\rREMOVE) ­\\rDisinfectant for\\r...</td>\n",
       "      <td>Property\\rPreservation</td>\n",
       "      <td>County</td>\n",
       "      <td>Unassigned</td>\n",
       "      <td>NaN</td>\n",
       "      <td>NaN</td>\n",
       "    </tr>\n",
       "    <tr>\n",
       "      <th>1307</th>\n",
       "      <td>03/24/2020\\r09:26:16</td>\n",
       "      <td>03/24/2020\\r09:29:38</td>\n",
       "      <td>Pacific\\rChinook\\rIndian\\rTribe</td>\n",
       "      <td>Pacific County\\rEOC</td>\n",
       "      <td>0</td>\n",
       "      <td>WA­\\r20203249193</td>\n",
       "      <td>NaN</td>\n",
       "      <td>Test Test</td>\n",
       "      <td>NaN</td>\n",
       "      <td>County</td>\n",
       "      <td>Unassigned</td>\n",
       "      <td>NaN</td>\n",
       "      <td>NaN</td>\n",
       "    </tr>\n",
       "    <tr>\n",
       "      <th>1311</th>\n",
       "      <td>NaN</td>\n",
       "      <td>NaN</td>\n",
       "      <td>NaN</td>\n",
       "      <td>NaN</td>\n",
       "      <td>NaN</td>\n",
       "      <td>NaN</td>\n",
       "      <td>Disposable</td>\n",
       "      <td>NaN</td>\n",
       "      <td>NaN</td>\n",
       "      <td>NaN</td>\n",
       "      <td>NaN</td>\n",
       "      <td>NaN</td>\n",
       "      <td>NaN</td>\n",
       "    </tr>\n",
       "    <tr>\n",
       "      <th>1338</th>\n",
       "      <td>NaN</td>\n",
       "      <td>NaN</td>\n",
       "      <td>NaN</td>\n",
       "      <td>NaN</td>\n",
       "      <td>NaN</td>\n",
       "      <td>NaN</td>\n",
       "      <td>PPE For Law\\rEnforcement\\rFirst\\rResponders</td>\n",
       "      <td>NaN</td>\n",
       "      <td>NaN</td>\n",
       "      <td>NaN</td>\n",
       "      <td>NaN</td>\n",
       "      <td>NaN</td>\n",
       "      <td>NaN</td>\n",
       "    </tr>\n",
       "    <tr>\n",
       "      <th>1344</th>\n",
       "      <td>NaN</td>\n",
       "      <td>NaN</td>\n",
       "      <td>NaN</td>\n",
       "      <td>NaN</td>\n",
       "      <td>NaN</td>\n",
       "      <td>NaN</td>\n",
       "      <td>exam, large /\\rgloves, exam\\rXL / gown,\\rdispo...</td>\n",
       "      <td>NaN</td>\n",
       "      <td>NaN</td>\n",
       "      <td>NaN</td>\n",
       "      <td>NaN</td>\n",
       "      <td>NaN</td>\n",
       "      <td>NaN</td>\n",
       "    </tr>\n",
       "    <tr>\n",
       "      <th>1363</th>\n",
       "      <td>03/12/2020\\r11:55:33</td>\n",
       "      <td>03/21/2020\\r18:11:41</td>\n",
       "      <td>Kitsap\\rBremerton</td>\n",
       "      <td>Kitsap County\\rAdministrative\\rServices\\rDepar...</td>\n",
       "      <td>Kitsap ­ 014</td>\n",
       "      <td>WA­\\r202031211857</td>\n",
       "      <td>NaN</td>\n",
       "      <td>health/safety\\rsupplies for\\rTier 4\\rcongregat...</td>\n",
       "      <td>NaN</td>\n",
       "      <td>County</td>\n",
       "      <td>Unassigned</td>\n",
       "      <td>NaN</td>\n",
       "      <td>NaN</td>\n",
       "    </tr>\n",
       "    <tr>\n",
       "      <th>1386</th>\n",
       "      <td>NaN</td>\n",
       "      <td>NaN</td>\n",
       "      <td>NaN</td>\n",
       "      <td>NaN</td>\n",
       "      <td>NaN</td>\n",
       "      <td>NaN</td>\n",
       "      <td>eyewear, and\\rgloves</td>\n",
       "      <td>NaN</td>\n",
       "      <td>NaN</td>\n",
       "      <td>NaN</td>\n",
       "      <td>NaN</td>\n",
       "      <td>NaN</td>\n",
       "      <td>NaN</td>\n",
       "    </tr>\n",
       "    <tr>\n",
       "      <th>1425</th>\n",
       "      <td>NaN</td>\n",
       "      <td>NaN</td>\n",
       "      <td>NaN</td>\n",
       "      <td>NaN</td>\n",
       "      <td>NaN</td>\n",
       "      <td>NaN</td>\n",
       "      <td>Large, / PPE</td>\n",
       "      <td>NaN</td>\n",
       "      <td>NaN</td>\n",
       "      <td>NaN</td>\n",
       "      <td>NaN</td>\n",
       "      <td>NaN</td>\n",
       "      <td>NaN</td>\n",
       "    </tr>\n",
       "    <tr>\n",
       "      <th>1452</th>\n",
       "      <td>NaN</td>\n",
       "      <td>NaN</td>\n",
       "      <td>NaN</td>\n",
       "      <td>NaN</td>\n",
       "      <td>2.02031E+11</td>\n",
       "      <td>NaN</td>\n",
       "      <td>NaN</td>\n",
       "      <td>NaN</td>\n",
       "      <td>NaN</td>\n",
       "      <td>NaN</td>\n",
       "      <td>NaN</td>\n",
       "      <td>NaN</td>\n",
       "      <td>NaN</td>\n",
       "    </tr>\n",
       "    <tr>\n",
       "      <th>1478</th>\n",
       "      <td>NaN</td>\n",
       "      <td>NaN</td>\n",
       "      <td>NaN</td>\n",
       "      <td>NaN</td>\n",
       "      <td>NaN</td>\n",
       "      <td>NaN</td>\n",
       "      <td>NaN</td>\n",
       "      <td>wipe</td>\n",
       "      <td>NaN</td>\n",
       "      <td>NaN</td>\n",
       "      <td>NaN</td>\n",
       "      <td>NaN</td>\n",
       "      <td>NaN</td>\n",
       "    </tr>\n",
       "    <tr>\n",
       "      <th>1492</th>\n",
       "      <td>03/21/2020\\r14:03:33</td>\n",
       "      <td>03/21/2020\\r20:50:24</td>\n",
       "      <td>King\\rSeattle</td>\n",
       "      <td>Ballard Center</td>\n",
       "      <td>PH­\\r202032114116,\\rRR 382</td>\n",
       "      <td>WA­\\r202032114116</td>\n",
       "      <td>NaN</td>\n",
       "      <td>NOT REMOVE)\\r­ Disinfectant\\rSupplies and\\rThe...</td>\n",
       "      <td>Incident\\rStabilization</td>\n",
       "      <td>County</td>\n",
       "      <td>Unassigned</td>\n",
       "      <td>NaN</td>\n",
       "      <td>NaN</td>\n",
       "    </tr>\n",
       "    <tr>\n",
       "      <th>1574</th>\n",
       "      <td>02/21/2020\\r08:37:25</td>\n",
       "      <td>King\\rSeattle</td>\n",
       "      <td>PHSKC</td>\n",
       "      <td>PH­\\r20202617656</td>\n",
       "      <td>WA­\\r20202617656</td>\n",
       "      <td>NaN</td>\n",
       "      <td>RR 110 ­ Goat Hill\\rGarage After Hours\\rAccess</td>\n",
       "      <td>Incident\\rStabilization</td>\n",
       "      <td>City</td>\n",
       "      <td>Completed</td>\n",
       "      <td>Completed</td>\n",
       "      <td>Logistics Section</td>\n",
       "      <td>NaN</td>\n",
       "    </tr>\n",
       "    <tr>\n",
       "      <th>1626</th>\n",
       "      <td>NaN</td>\n",
       "      <td>NaN</td>\n",
       "      <td>NaN</td>\n",
       "      <td>NaN</td>\n",
       "      <td>NaN</td>\n",
       "      <td>NaN</td>\n",
       "      <td>facility</td>\n",
       "      <td>NaN</td>\n",
       "      <td>NaN</td>\n",
       "      <td>NaN</td>\n",
       "      <td>NaN</td>\n",
       "      <td>NaN</td>\n",
       "      <td>NaN</td>\n",
       "    </tr>\n",
       "    <tr>\n",
       "      <th>1656</th>\n",
       "      <td>03/11/2020\\r12:08:49</td>\n",
       "      <td>03/19/2020\\r12:47:22</td>\n",
       "      <td>Thurston\\rTumwater</td>\n",
       "      <td>Department\\rof\\rCorrections</td>\n",
       "      <td>39</td>\n",
       "      <td>WA­\\r202031112737</td>\n",
       "      <td>NaN</td>\n",
       "      <td>Hand Sanitizer</td>\n",
       "      <td>Life Saving</td>\n",
       "      <td>City</td>\n",
       "      <td>Unassigned</td>\n",
       "      <td>NaN</td>\n",
       "      <td>NaN</td>\n",
       "    </tr>\n",
       "    <tr>\n",
       "      <th>1702</th>\n",
       "      <td>NaN</td>\n",
       "      <td>NaN</td>\n",
       "      <td>NaN</td>\n",
       "      <td>NaN</td>\n",
       "      <td>NaN</td>\n",
       "      <td>NaN</td>\n",
       "      <td>8/12oz, 1000</td>\n",
       "      <td>NaN</td>\n",
       "      <td>NaN</td>\n",
       "      <td>NaN</td>\n",
       "      <td>NaN</td>\n",
       "      <td>NaN</td>\n",
       "      <td>NaN</td>\n",
       "    </tr>\n",
       "    <tr>\n",
       "      <th>1709</th>\n",
       "      <td>NaN</td>\n",
       "      <td>NaN</td>\n",
       "      <td>NaN</td>\n",
       "      <td>NaN</td>\n",
       "      <td>NaN</td>\n",
       "      <td>NaN</td>\n",
       "      <td>Face Masks,\\rGoggles, Hand\\rSanitizer</td>\n",
       "      <td>NaN</td>\n",
       "      <td>NaN</td>\n",
       "      <td>NaN</td>\n",
       "      <td>NaN</td>\n",
       "      <td>NaN</td>\n",
       "      <td>NaN</td>\n",
       "    </tr>\n",
       "  </tbody>\n",
       "</table>\n",
       "</div>"
      ],
      "text/plain": [
       "             original_date           update_date  \\\n",
       "609   03/21/2020\\r13:58:12  03/21/2020\\r14:01:12   \n",
       "641                    NaN                   NaN   \n",
       "681   03/04/2020\\r15:48:10  03/12/2020\\r08:27:37   \n",
       "767   03/17/2020\\r08:40:10  03/17/2020\\r08:59:19   \n",
       "817                    NaN                   NaN   \n",
       "831                    NaN                   NaN   \n",
       "869   03/20/2020\\r12:09:35  03/21/2020\\r09:08:23   \n",
       "919   03/09/2020\\r13:03:04  03/19/2020\\r08:52:36   \n",
       "998   03/22/2020\\r11:40:40  03/22/2020\\r11:55:20   \n",
       "999   03/18/2020\\r14:51:59  03/19/2020\\r20:24:14   \n",
       "1045                   NaN                   NaN   \n",
       "1101  03/03/2020\\r01:03:52  03/03/2020\\r01:08:09   \n",
       "1121                   NaN                   NaN   \n",
       "1128                   NaN                   NaN   \n",
       "1142                   NaN                   NaN   \n",
       "1212                   NaN                   NaN   \n",
       "1265  03/14/2020\\r13:41:14  03/16/2020\\r09:04:39   \n",
       "1278                   NaN                   NaN   \n",
       "1297  03/23/2020\\r16:31:57  03/24/2020\\r09:47:43   \n",
       "1307  03/24/2020\\r09:26:16  03/24/2020\\r09:29:38   \n",
       "1311                   NaN                   NaN   \n",
       "1338                   NaN                   NaN   \n",
       "1344                   NaN                   NaN   \n",
       "1363  03/12/2020\\r11:55:33  03/21/2020\\r18:11:41   \n",
       "1386                   NaN                   NaN   \n",
       "1425                   NaN                   NaN   \n",
       "1452                   NaN                   NaN   \n",
       "1478                   NaN                   NaN   \n",
       "1492  03/21/2020\\r14:03:33  03/21/2020\\r20:50:24   \n",
       "1574  02/21/2020\\r08:37:25         King\\rSeattle   \n",
       "1626                   NaN                   NaN   \n",
       "1656  03/11/2020\\r12:08:49  03/19/2020\\r12:47:22   \n",
       "1702                   NaN                   NaN   \n",
       "1709                   NaN                   NaN   \n",
       "\n",
       "                          county_city  \\\n",
       "609     Snohomish\\rMountlake\\rTerrace   \n",
       "641                               NaN   \n",
       "681                     King\\rSeattle   \n",
       "767           Skagit\\rSedro­\\rWoolley   \n",
       "817                               NaN   \n",
       "831                               NaN   \n",
       "869              Snohomish\\rArlington   \n",
       "919                    King\\rBellevue   \n",
       "998                 Kitsap\\rBremerton   \n",
       "999                Snohomish\\rEverett   \n",
       "1045                              NaN   \n",
       "1101                    King\\rSeattle   \n",
       "1121                              DBA   \n",
       "1128                              NaN   \n",
       "1142                              NaN   \n",
       "1212                              NaN   \n",
       "1265                    King\\rSeattle   \n",
       "1278                              NaN   \n",
       "1297                    King\\rTukwila   \n",
       "1307  Pacific\\rChinook\\rIndian\\rTribe   \n",
       "1311                              NaN   \n",
       "1338                              NaN   \n",
       "1344                              NaN   \n",
       "1363                Kitsap\\rBremerton   \n",
       "1386                              NaN   \n",
       "1425                              NaN   \n",
       "1452                              NaN   \n",
       "1478                              NaN   \n",
       "1492                    King\\rSeattle   \n",
       "1574                            PHSKC   \n",
       "1626                              NaN   \n",
       "1656               Thurston\\rTumwater   \n",
       "1702                              NaN   \n",
       "1709                              NaN   \n",
       "\n",
       "                                     originating_agency  \\\n",
       "609                                Aacres WA,\\rLLC­ SHD   \n",
       "641                                          Department   \n",
       "681                                       PHSKC CD\\rEpi   \n",
       "767                             Sedro­\\rWoolley\\rPolice   \n",
       "817                                                 NaN   \n",
       "831                                                 NaN   \n",
       "869    Cascade Valley\\rSenior Living­\\rSHD/BULK Med\\rT3   \n",
       "919                                   City of\\rBellevue   \n",
       "998              Bremerton\\rFD ­ Tier 1\\rEMS/FR\\ragency   \n",
       "999                        Snohomish\\rCounty ­\\rDEM ECC   \n",
       "1045                                                NaN   \n",
       "1101                                              PHSKC   \n",
       "1121                                                NaN   \n",
       "1128                                                NaN   \n",
       "1142                                                NaN   \n",
       "1212                                                NaN   \n",
       "1265                                              PHSKC   \n",
       "1278                                                NaN   \n",
       "1297                      Cascade\\rBehavioral\\rHospital   \n",
       "1307                                Pacific County\\rEOC   \n",
       "1311                                                NaN   \n",
       "1338                                                NaN   \n",
       "1344                                                NaN   \n",
       "1363  Kitsap County\\rAdministrative\\rServices\\rDepar...   \n",
       "1386                                                NaN   \n",
       "1425                                                NaN   \n",
       "1452                                                NaN   \n",
       "1478                                                NaN   \n",
       "1492                                     Ballard Center   \n",
       "1574                                   PH­\\r20202617656   \n",
       "1626                                                NaN   \n",
       "1656                        Department\\rof\\rCorrections   \n",
       "1702                                                NaN   \n",
       "1709                                                NaN   \n",
       "\n",
       "                          jurisdictiont_tracking_num state_tracking_num  \\\n",
       "609                       1234\\rSnoco­\\r202032113133  WA­\\r202032113133   \n",
       "641                                WA­\\r202031413954                NaN   \n",
       "681                                  PH­\\r2020341514    WA­\\r2020341514   \n",
       "767                                      2.02003E+11   WA­\\r20203178748   \n",
       "817                                              NaN                NaN   \n",
       "831                                              NaN                NaN   \n",
       "869                             SnoCo­\\r202032012958  WA­\\r202032012958   \n",
       "919                                BEL­\\r20203913808   WA­\\r20203913808   \n",
       "998                                 Kitsap ­\\r046BFD  WA­\\r202032211536   \n",
       "999                      15000\\rSnoCo­\\r202031814581  WA­\\r202031814581   \n",
       "1045                                             NaN                NaN   \n",
       "1101                                 PH­\\r2020331930    WA­\\r2020331930   \n",
       "1121                                             NaN                NaN   \n",
       "1128                                             NaN                NaN   \n",
       "1142                                             NaN                NaN   \n",
       "1212                                             NaN                NaN   \n",
       "1265            PH­\\r202031413874\\rKC­\\r202031413874  WA­\\r202031413874   \n",
       "1278                                             NaN                NaN   \n",
       "1297  PH­\\r202032316329,\\rRR 336b\\rKC­\\r202032316329  WA­\\r202032316329   \n",
       "1307                                               0   WA­\\r20203249193   \n",
       "1311                                             NaN                NaN   \n",
       "1338                                             NaN                NaN   \n",
       "1344                                             NaN                NaN   \n",
       "1363                                    Kitsap ­ 014  WA­\\r202031211857   \n",
       "1386                                             NaN                NaN   \n",
       "1425                                             NaN                NaN   \n",
       "1452                                     2.02031E+11                NaN   \n",
       "1478                                             NaN                NaN   \n",
       "1492                      PH­\\r202032114116,\\rRR 382  WA­\\r202032114116   \n",
       "1574                                WA­\\r20202617656                NaN   \n",
       "1626                                             NaN                NaN   \n",
       "1656                                              39  WA­\\r202031112737   \n",
       "1702                                             NaN                NaN   \n",
       "1709                                             NaN                NaN   \n",
       "\n",
       "                                    emac_federal_ma_num  \\\n",
       "609                                                 NaN   \n",
       "641                                                 NaN   \n",
       "681                                                 NaN   \n",
       "767                                                 NaN   \n",
       "817                                                 NaN   \n",
       "831                                                 NaN   \n",
       "869                                                 NaN   \n",
       "919                                                 NaN   \n",
       "998                                                 NaN   \n",
       "999                                                 NaN   \n",
       "1045                                                NaN   \n",
       "1101                                                NaN   \n",
       "1121                                          sanitizer   \n",
       "1128                                                NaN   \n",
       "1142                                                NaN   \n",
       "1212                                                NaN   \n",
       "1265                                                NaN   \n",
       "1278                                          Authority   \n",
       "1297                                                NaN   \n",
       "1307                                                NaN   \n",
       "1311                                         Disposable   \n",
       "1338        PPE For Law\\rEnforcement\\rFirst\\rResponders   \n",
       "1344  exam, large /\\rgloves, exam\\rXL / gown,\\rdispo...   \n",
       "1363                                                NaN   \n",
       "1386                               eyewear, and\\rgloves   \n",
       "1425                                       Large, / PPE   \n",
       "1452                                                NaN   \n",
       "1478                                                NaN   \n",
       "1492                                                NaN   \n",
       "1574     RR 110 ­ Goat Hill\\rGarage After Hours\\rAccess   \n",
       "1626                                           facility   \n",
       "1656                                                NaN   \n",
       "1702                                       8/12oz, 1000   \n",
       "1709              Face Masks,\\rGoggles, Hand\\rSanitizer   \n",
       "\n",
       "                                                subject  \\\n",
       "609                                               Glove   \n",
       "641                                                 NaN   \n",
       "681            RR 213S Evening\\rEvergreen Testing\\rTeam   \n",
       "767               Mask,surgical/Mask,N95/gloves,nitrile   \n",
       "817                            safety / Hand\\rSanitizer   \n",
       "831                                                 NaN   \n",
       "869                                     Mask, procedure   \n",
       "919                                          N­95 Masks   \n",
       "998             Supplies/PPE for\\rTier 1 EMS/FR\\ragency   \n",
       "999                                   Filters, N95 Mask   \n",
       "1045                                    Hand\\rSanitizer   \n",
       "1101                      RR 039 ­ Meals for HMAC Staff   \n",
       "1121                                                NaN   \n",
       "1128                        PAPR filter,\\rhelmet\\rcover   \n",
       "1142                                     disposable,\\r/   \n",
       "1212                                                NaN   \n",
       "1265     Medical Staff for\\rCongregate Care\\rFacilities   \n",
       "1278                                                NaN   \n",
       "1297  RR 336b (DO NOT\\rREMOVE) ­\\rDisinfectant for\\r...   \n",
       "1307                                          Test Test   \n",
       "1311                                                NaN   \n",
       "1338                                                NaN   \n",
       "1344                                                NaN   \n",
       "1363  health/safety\\rsupplies for\\rTier 4\\rcongregat...   \n",
       "1386                                                NaN   \n",
       "1425                                                NaN   \n",
       "1452                                                NaN   \n",
       "1478                                               wipe   \n",
       "1492  NOT REMOVE)\\r­ Disinfectant\\rSupplies and\\rThe...   \n",
       "1574                            Incident\\rStabilization   \n",
       "1626                                                NaN   \n",
       "1656                                     Hand Sanitizer   \n",
       "1702                                                NaN   \n",
       "1709                                                NaN   \n",
       "\n",
       "                     priority  worked_by overall_status  assignment_status  \\\n",
       "609   Incident\\rStabilization     County       Accepted                NaN   \n",
       "641                       NaN        NaN            NaN                NaN   \n",
       "681   Incident\\rStabilization       City     Unassigned                NaN   \n",
       "767   Incident\\rStabilization     County      Completed                NaN   \n",
       "817                       NaN        NaN            NaN                NaN   \n",
       "831                       NaN        NaN            NaN                NaN   \n",
       "869   Incident\\rStabilization     County       Assigned                NaN   \n",
       "919   Incident\\rStabilization       City      Completed                NaN   \n",
       "998                       NaN     County     Unassigned                NaN   \n",
       "999   Incident\\rStabilization     County       Assigned                NaN   \n",
       "1045                      NaN        NaN            NaN                NaN   \n",
       "1101  Incident\\rStabilization       City      Completed                NaN   \n",
       "1121                      NaN        NaN            NaN                NaN   \n",
       "1128                      NaN        NaN            NaN                NaN   \n",
       "1142                      NaN        NaN            NaN                NaN   \n",
       "1212                      NaN        NaN            NaN                NaN   \n",
       "1265  Incident\\rStabilization     County       Assigned                NaN   \n",
       "1278                      NaN        NaN            NaN                NaN   \n",
       "1297   Property\\rPreservation     County     Unassigned                NaN   \n",
       "1307                      NaN     County     Unassigned                NaN   \n",
       "1311                      NaN        NaN            NaN                NaN   \n",
       "1338                      NaN        NaN            NaN                NaN   \n",
       "1344                      NaN        NaN            NaN                NaN   \n",
       "1363                      NaN     County     Unassigned                NaN   \n",
       "1386                      NaN        NaN            NaN                NaN   \n",
       "1425                      NaN        NaN            NaN                NaN   \n",
       "1452                      NaN        NaN            NaN                NaN   \n",
       "1478                      NaN        NaN            NaN                NaN   \n",
       "1492  Incident\\rStabilization     County     Unassigned                NaN   \n",
       "1574                     City  Completed      Completed  Logistics Section   \n",
       "1626                      NaN        NaN            NaN                NaN   \n",
       "1656              Life Saving       City     Unassigned                NaN   \n",
       "1702                      NaN        NaN            NaN                NaN   \n",
       "1709                      NaN        NaN            NaN                NaN   \n",
       "\n",
       "     assigned_to  \n",
       "609          NaN  \n",
       "641          NaN  \n",
       "681          NaN  \n",
       "767          NaN  \n",
       "817          NaN  \n",
       "831          NaN  \n",
       "869          NaN  \n",
       "919          NaN  \n",
       "998          NaN  \n",
       "999          NaN  \n",
       "1045         NaN  \n",
       "1101         NaN  \n",
       "1121         NaN  \n",
       "1128         NaN  \n",
       "1142         NaN  \n",
       "1212         NaN  \n",
       "1265         NaN  \n",
       "1278         NaN  \n",
       "1297         NaN  \n",
       "1307         NaN  \n",
       "1311         NaN  \n",
       "1338         NaN  \n",
       "1344         NaN  \n",
       "1363         NaN  \n",
       "1386         NaN  \n",
       "1425         NaN  \n",
       "1452         NaN  \n",
       "1478         NaN  \n",
       "1492         NaN  \n",
       "1574         NaN  \n",
       "1626         NaN  \n",
       "1656         NaN  \n",
       "1702         NaN  \n",
       "1709         NaN  "
      ]
     },
     "execution_count": 10,
     "metadata": {},
     "output_type": "execute_result"
    }
   ],
   "source": [
    "df_noise_values = df_noise_values.shift(periods=-1, axis='columns')\n",
    "df_noise_values"
   ]
  },
  {
   "cell_type": "markdown",
   "metadata": {},
   "source": [
    "Let's reunite the splitted dataframes into one."
   ]
  },
  {
   "cell_type": "code",
   "execution_count": 11,
   "metadata": {},
   "outputs": [
    {
     "name": "stdout",
     "output_type": "stream",
     "text": [
      "(1719, 13)\n"
     ]
    }
   ],
   "source": [
    "del(df)\n",
    "df = pd.concat([df_normal, df_noise_values])\n",
    "\n",
    "# Consistency test\n",
    "assert len(df) == original_lenght\n",
    "\n",
    "print(df.shape)"
   ]
  },
  {
   "cell_type": "markdown",
   "metadata": {},
   "source": [
    "Have a look at the records in the restored dataframe that show null values in 'original_date' and see if we can safely eliminate them."
   ]
  },
  {
   "cell_type": "code",
   "execution_count": 12,
   "metadata": {},
   "outputs": [
    {
     "data": {
      "text/html": [
       "<div>\n",
       "<style scoped>\n",
       "    .dataframe tbody tr th:only-of-type {\n",
       "        vertical-align: middle;\n",
       "    }\n",
       "\n",
       "    .dataframe tbody tr th {\n",
       "        vertical-align: top;\n",
       "    }\n",
       "\n",
       "    .dataframe thead th {\n",
       "        text-align: right;\n",
       "    }\n",
       "</style>\n",
       "<table border=\"1\" class=\"dataframe\">\n",
       "  <thead>\n",
       "    <tr style=\"text-align: right;\">\n",
       "      <th></th>\n",
       "      <th>original_date</th>\n",
       "      <th>update_date</th>\n",
       "      <th>county_city</th>\n",
       "      <th>originating_agency</th>\n",
       "      <th>jurisdictiont_tracking_num</th>\n",
       "      <th>state_tracking_num</th>\n",
       "      <th>emac_federal_ma_num</th>\n",
       "      <th>subject</th>\n",
       "      <th>priority</th>\n",
       "      <th>worked_by</th>\n",
       "      <th>overall_status</th>\n",
       "      <th>assignment_status</th>\n",
       "      <th>assigned_to</th>\n",
       "    </tr>\n",
       "  </thead>\n",
       "  <tbody>\n",
       "    <tr>\n",
       "      <th>641</th>\n",
       "      <td>NaN</td>\n",
       "      <td>NaN</td>\n",
       "      <td>NaN</td>\n",
       "      <td>Department</td>\n",
       "      <td>WA­\\r202031413954</td>\n",
       "      <td>NaN</td>\n",
       "      <td>NaN</td>\n",
       "      <td>NaN</td>\n",
       "      <td>NaN</td>\n",
       "      <td>NaN</td>\n",
       "      <td>NaN</td>\n",
       "      <td>NaN</td>\n",
       "      <td>NaN</td>\n",
       "    </tr>\n",
       "    <tr>\n",
       "      <th>817</th>\n",
       "      <td>NaN</td>\n",
       "      <td>NaN</td>\n",
       "      <td>NaN</td>\n",
       "      <td>NaN</td>\n",
       "      <td>NaN</td>\n",
       "      <td>NaN</td>\n",
       "      <td>NaN</td>\n",
       "      <td>safety / Hand\\rSanitizer</td>\n",
       "      <td>NaN</td>\n",
       "      <td>NaN</td>\n",
       "      <td>NaN</td>\n",
       "      <td>NaN</td>\n",
       "      <td>NaN</td>\n",
       "    </tr>\n",
       "    <tr>\n",
       "      <th>831</th>\n",
       "      <td>NaN</td>\n",
       "      <td>NaN</td>\n",
       "      <td>NaN</td>\n",
       "      <td>NaN</td>\n",
       "      <td>NaN</td>\n",
       "      <td>NaN</td>\n",
       "      <td>NaN</td>\n",
       "      <td>NaN</td>\n",
       "      <td>NaN</td>\n",
       "      <td>NaN</td>\n",
       "      <td>NaN</td>\n",
       "      <td>NaN</td>\n",
       "      <td>NaN</td>\n",
       "    </tr>\n",
       "    <tr>\n",
       "      <th>1045</th>\n",
       "      <td>NaN</td>\n",
       "      <td>NaN</td>\n",
       "      <td>NaN</td>\n",
       "      <td>NaN</td>\n",
       "      <td>NaN</td>\n",
       "      <td>NaN</td>\n",
       "      <td>NaN</td>\n",
       "      <td>Hand\\rSanitizer</td>\n",
       "      <td>NaN</td>\n",
       "      <td>NaN</td>\n",
       "      <td>NaN</td>\n",
       "      <td>NaN</td>\n",
       "      <td>NaN</td>\n",
       "    </tr>\n",
       "    <tr>\n",
       "      <th>1121</th>\n",
       "      <td>NaN</td>\n",
       "      <td>NaN</td>\n",
       "      <td>DBA</td>\n",
       "      <td>NaN</td>\n",
       "      <td>NaN</td>\n",
       "      <td>NaN</td>\n",
       "      <td>sanitizer</td>\n",
       "      <td>NaN</td>\n",
       "      <td>NaN</td>\n",
       "      <td>NaN</td>\n",
       "      <td>NaN</td>\n",
       "      <td>NaN</td>\n",
       "      <td>NaN</td>\n",
       "    </tr>\n",
       "    <tr>\n",
       "      <th>1128</th>\n",
       "      <td>NaN</td>\n",
       "      <td>NaN</td>\n",
       "      <td>NaN</td>\n",
       "      <td>NaN</td>\n",
       "      <td>NaN</td>\n",
       "      <td>NaN</td>\n",
       "      <td>NaN</td>\n",
       "      <td>PAPR filter,\\rhelmet\\rcover</td>\n",
       "      <td>NaN</td>\n",
       "      <td>NaN</td>\n",
       "      <td>NaN</td>\n",
       "      <td>NaN</td>\n",
       "      <td>NaN</td>\n",
       "    </tr>\n",
       "    <tr>\n",
       "      <th>1142</th>\n",
       "      <td>NaN</td>\n",
       "      <td>NaN</td>\n",
       "      <td>NaN</td>\n",
       "      <td>NaN</td>\n",
       "      <td>NaN</td>\n",
       "      <td>NaN</td>\n",
       "      <td>NaN</td>\n",
       "      <td>disposable,\\r/</td>\n",
       "      <td>NaN</td>\n",
       "      <td>NaN</td>\n",
       "      <td>NaN</td>\n",
       "      <td>NaN</td>\n",
       "      <td>NaN</td>\n",
       "    </tr>\n",
       "    <tr>\n",
       "      <th>1212</th>\n",
       "      <td>NaN</td>\n",
       "      <td>NaN</td>\n",
       "      <td>NaN</td>\n",
       "      <td>NaN</td>\n",
       "      <td>NaN</td>\n",
       "      <td>NaN</td>\n",
       "      <td>NaN</td>\n",
       "      <td>NaN</td>\n",
       "      <td>NaN</td>\n",
       "      <td>NaN</td>\n",
       "      <td>NaN</td>\n",
       "      <td>NaN</td>\n",
       "      <td>NaN</td>\n",
       "    </tr>\n",
       "    <tr>\n",
       "      <th>1278</th>\n",
       "      <td>NaN</td>\n",
       "      <td>NaN</td>\n",
       "      <td>NaN</td>\n",
       "      <td>NaN</td>\n",
       "      <td>NaN</td>\n",
       "      <td>NaN</td>\n",
       "      <td>Authority</td>\n",
       "      <td>NaN</td>\n",
       "      <td>NaN</td>\n",
       "      <td>NaN</td>\n",
       "      <td>NaN</td>\n",
       "      <td>NaN</td>\n",
       "      <td>NaN</td>\n",
       "    </tr>\n",
       "    <tr>\n",
       "      <th>1311</th>\n",
       "      <td>NaN</td>\n",
       "      <td>NaN</td>\n",
       "      <td>NaN</td>\n",
       "      <td>NaN</td>\n",
       "      <td>NaN</td>\n",
       "      <td>NaN</td>\n",
       "      <td>Disposable</td>\n",
       "      <td>NaN</td>\n",
       "      <td>NaN</td>\n",
       "      <td>NaN</td>\n",
       "      <td>NaN</td>\n",
       "      <td>NaN</td>\n",
       "      <td>NaN</td>\n",
       "    </tr>\n",
       "    <tr>\n",
       "      <th>1338</th>\n",
       "      <td>NaN</td>\n",
       "      <td>NaN</td>\n",
       "      <td>NaN</td>\n",
       "      <td>NaN</td>\n",
       "      <td>NaN</td>\n",
       "      <td>NaN</td>\n",
       "      <td>PPE For Law\\rEnforcement\\rFirst\\rResponders</td>\n",
       "      <td>NaN</td>\n",
       "      <td>NaN</td>\n",
       "      <td>NaN</td>\n",
       "      <td>NaN</td>\n",
       "      <td>NaN</td>\n",
       "      <td>NaN</td>\n",
       "    </tr>\n",
       "    <tr>\n",
       "      <th>1344</th>\n",
       "      <td>NaN</td>\n",
       "      <td>NaN</td>\n",
       "      <td>NaN</td>\n",
       "      <td>NaN</td>\n",
       "      <td>NaN</td>\n",
       "      <td>NaN</td>\n",
       "      <td>exam, large /\\rgloves, exam\\rXL / gown,\\rdispo...</td>\n",
       "      <td>NaN</td>\n",
       "      <td>NaN</td>\n",
       "      <td>NaN</td>\n",
       "      <td>NaN</td>\n",
       "      <td>NaN</td>\n",
       "      <td>NaN</td>\n",
       "    </tr>\n",
       "    <tr>\n",
       "      <th>1386</th>\n",
       "      <td>NaN</td>\n",
       "      <td>NaN</td>\n",
       "      <td>NaN</td>\n",
       "      <td>NaN</td>\n",
       "      <td>NaN</td>\n",
       "      <td>NaN</td>\n",
       "      <td>eyewear, and\\rgloves</td>\n",
       "      <td>NaN</td>\n",
       "      <td>NaN</td>\n",
       "      <td>NaN</td>\n",
       "      <td>NaN</td>\n",
       "      <td>NaN</td>\n",
       "      <td>NaN</td>\n",
       "    </tr>\n",
       "    <tr>\n",
       "      <th>1425</th>\n",
       "      <td>NaN</td>\n",
       "      <td>NaN</td>\n",
       "      <td>NaN</td>\n",
       "      <td>NaN</td>\n",
       "      <td>NaN</td>\n",
       "      <td>NaN</td>\n",
       "      <td>Large, / PPE</td>\n",
       "      <td>NaN</td>\n",
       "      <td>NaN</td>\n",
       "      <td>NaN</td>\n",
       "      <td>NaN</td>\n",
       "      <td>NaN</td>\n",
       "      <td>NaN</td>\n",
       "    </tr>\n",
       "    <tr>\n",
       "      <th>1452</th>\n",
       "      <td>NaN</td>\n",
       "      <td>NaN</td>\n",
       "      <td>NaN</td>\n",
       "      <td>NaN</td>\n",
       "      <td>2.02031E+11</td>\n",
       "      <td>NaN</td>\n",
       "      <td>NaN</td>\n",
       "      <td>NaN</td>\n",
       "      <td>NaN</td>\n",
       "      <td>NaN</td>\n",
       "      <td>NaN</td>\n",
       "      <td>NaN</td>\n",
       "      <td>NaN</td>\n",
       "    </tr>\n",
       "    <tr>\n",
       "      <th>1478</th>\n",
       "      <td>NaN</td>\n",
       "      <td>NaN</td>\n",
       "      <td>NaN</td>\n",
       "      <td>NaN</td>\n",
       "      <td>NaN</td>\n",
       "      <td>NaN</td>\n",
       "      <td>NaN</td>\n",
       "      <td>wipe</td>\n",
       "      <td>NaN</td>\n",
       "      <td>NaN</td>\n",
       "      <td>NaN</td>\n",
       "      <td>NaN</td>\n",
       "      <td>NaN</td>\n",
       "    </tr>\n",
       "    <tr>\n",
       "      <th>1626</th>\n",
       "      <td>NaN</td>\n",
       "      <td>NaN</td>\n",
       "      <td>NaN</td>\n",
       "      <td>NaN</td>\n",
       "      <td>NaN</td>\n",
       "      <td>NaN</td>\n",
       "      <td>facility</td>\n",
       "      <td>NaN</td>\n",
       "      <td>NaN</td>\n",
       "      <td>NaN</td>\n",
       "      <td>NaN</td>\n",
       "      <td>NaN</td>\n",
       "      <td>NaN</td>\n",
       "    </tr>\n",
       "    <tr>\n",
       "      <th>1702</th>\n",
       "      <td>NaN</td>\n",
       "      <td>NaN</td>\n",
       "      <td>NaN</td>\n",
       "      <td>NaN</td>\n",
       "      <td>NaN</td>\n",
       "      <td>NaN</td>\n",
       "      <td>8/12oz, 1000</td>\n",
       "      <td>NaN</td>\n",
       "      <td>NaN</td>\n",
       "      <td>NaN</td>\n",
       "      <td>NaN</td>\n",
       "      <td>NaN</td>\n",
       "      <td>NaN</td>\n",
       "    </tr>\n",
       "    <tr>\n",
       "      <th>1709</th>\n",
       "      <td>NaN</td>\n",
       "      <td>NaN</td>\n",
       "      <td>NaN</td>\n",
       "      <td>NaN</td>\n",
       "      <td>NaN</td>\n",
       "      <td>NaN</td>\n",
       "      <td>Face Masks,\\rGoggles, Hand\\rSanitizer</td>\n",
       "      <td>NaN</td>\n",
       "      <td>NaN</td>\n",
       "      <td>NaN</td>\n",
       "      <td>NaN</td>\n",
       "      <td>NaN</td>\n",
       "      <td>NaN</td>\n",
       "    </tr>\n",
       "  </tbody>\n",
       "</table>\n",
       "</div>"
      ],
      "text/plain": [
       "     original_date update_date county_city originating_agency  \\\n",
       "641            NaN         NaN         NaN         Department   \n",
       "817            NaN         NaN         NaN                NaN   \n",
       "831            NaN         NaN         NaN                NaN   \n",
       "1045           NaN         NaN         NaN                NaN   \n",
       "1121           NaN         NaN         DBA                NaN   \n",
       "1128           NaN         NaN         NaN                NaN   \n",
       "1142           NaN         NaN         NaN                NaN   \n",
       "1212           NaN         NaN         NaN                NaN   \n",
       "1278           NaN         NaN         NaN                NaN   \n",
       "1311           NaN         NaN         NaN                NaN   \n",
       "1338           NaN         NaN         NaN                NaN   \n",
       "1344           NaN         NaN         NaN                NaN   \n",
       "1386           NaN         NaN         NaN                NaN   \n",
       "1425           NaN         NaN         NaN                NaN   \n",
       "1452           NaN         NaN         NaN                NaN   \n",
       "1478           NaN         NaN         NaN                NaN   \n",
       "1626           NaN         NaN         NaN                NaN   \n",
       "1702           NaN         NaN         NaN                NaN   \n",
       "1709           NaN         NaN         NaN                NaN   \n",
       "\n",
       "     jurisdictiont_tracking_num state_tracking_num  \\\n",
       "641           WA­\\r202031413954                NaN   \n",
       "817                         NaN                NaN   \n",
       "831                         NaN                NaN   \n",
       "1045                        NaN                NaN   \n",
       "1121                        NaN                NaN   \n",
       "1128                        NaN                NaN   \n",
       "1142                        NaN                NaN   \n",
       "1212                        NaN                NaN   \n",
       "1278                        NaN                NaN   \n",
       "1311                        NaN                NaN   \n",
       "1338                        NaN                NaN   \n",
       "1344                        NaN                NaN   \n",
       "1386                        NaN                NaN   \n",
       "1425                        NaN                NaN   \n",
       "1452                2.02031E+11                NaN   \n",
       "1478                        NaN                NaN   \n",
       "1626                        NaN                NaN   \n",
       "1702                        NaN                NaN   \n",
       "1709                        NaN                NaN   \n",
       "\n",
       "                                    emac_federal_ma_num  \\\n",
       "641                                                 NaN   \n",
       "817                                                 NaN   \n",
       "831                                                 NaN   \n",
       "1045                                                NaN   \n",
       "1121                                          sanitizer   \n",
       "1128                                                NaN   \n",
       "1142                                                NaN   \n",
       "1212                                                NaN   \n",
       "1278                                          Authority   \n",
       "1311                                         Disposable   \n",
       "1338        PPE For Law\\rEnforcement\\rFirst\\rResponders   \n",
       "1344  exam, large /\\rgloves, exam\\rXL / gown,\\rdispo...   \n",
       "1386                               eyewear, and\\rgloves   \n",
       "1425                                       Large, / PPE   \n",
       "1452                                                NaN   \n",
       "1478                                                NaN   \n",
       "1626                                           facility   \n",
       "1702                                       8/12oz, 1000   \n",
       "1709              Face Masks,\\rGoggles, Hand\\rSanitizer   \n",
       "\n",
       "                          subject priority worked_by overall_status  \\\n",
       "641                           NaN      NaN       NaN            NaN   \n",
       "817      safety / Hand\\rSanitizer      NaN       NaN            NaN   \n",
       "831                           NaN      NaN       NaN            NaN   \n",
       "1045              Hand\\rSanitizer      NaN       NaN            NaN   \n",
       "1121                          NaN      NaN       NaN            NaN   \n",
       "1128  PAPR filter,\\rhelmet\\rcover      NaN       NaN            NaN   \n",
       "1142               disposable,\\r/      NaN       NaN            NaN   \n",
       "1212                          NaN      NaN       NaN            NaN   \n",
       "1278                          NaN      NaN       NaN            NaN   \n",
       "1311                          NaN      NaN       NaN            NaN   \n",
       "1338                          NaN      NaN       NaN            NaN   \n",
       "1344                          NaN      NaN       NaN            NaN   \n",
       "1386                          NaN      NaN       NaN            NaN   \n",
       "1425                          NaN      NaN       NaN            NaN   \n",
       "1452                          NaN      NaN       NaN            NaN   \n",
       "1478                         wipe      NaN       NaN            NaN   \n",
       "1626                          NaN      NaN       NaN            NaN   \n",
       "1702                          NaN      NaN       NaN            NaN   \n",
       "1709                          NaN      NaN       NaN            NaN   \n",
       "\n",
       "     assignment_status assigned_to  \n",
       "641                NaN         NaN  \n",
       "817                NaN         NaN  \n",
       "831                NaN         NaN  \n",
       "1045               NaN         NaN  \n",
       "1121               NaN         NaN  \n",
       "1128               NaN         NaN  \n",
       "1142               NaN         NaN  \n",
       "1212               NaN         NaN  \n",
       "1278               NaN         NaN  \n",
       "1311               NaN         NaN  \n",
       "1338               NaN         NaN  \n",
       "1344               NaN         NaN  \n",
       "1386               NaN         NaN  \n",
       "1425               NaN         NaN  \n",
       "1452               NaN         NaN  \n",
       "1478               NaN         NaN  \n",
       "1626               NaN         NaN  \n",
       "1702               NaN         NaN  \n",
       "1709               NaN         NaN  "
      ]
     },
     "execution_count": 12,
     "metadata": {},
     "output_type": "execute_result"
    }
   ],
   "source": [
    "df[df['original_date'].isna()]"
   ]
  },
  {
   "cell_type": "markdown",
   "metadata": {},
   "source": [
    "They all look like noise. Away with them."
   ]
  },
  {
   "cell_type": "code",
   "execution_count": 13,
   "metadata": {},
   "outputs": [
    {
     "name": "stdout",
     "output_type": "stream",
     "text": [
      "(1700, 13)\n"
     ]
    }
   ],
   "source": [
    "df = df[~df['original_date'].isna()].reset_index(drop=True)\n",
    "print(df.shape)\n",
    "\n",
    "# Consistency test: Confirm that all the remainign 'orignal_date' values are proper dates.\n",
    "assert df['original_date'].str.match('^\\d{2}\\/\\d{2}\\/\\d{4}.*', na=False).all()"
   ]
  },
  {
   "cell_type": "markdown",
   "metadata": {},
   "source": [
    "When we split the **df** into **df_normal** and **df_noise_values**, and then merged the last two back together, the index order of the new **df** was scrambled. Let's return things to place. (Remember that the index values represent individual orders.)"
   ]
  },
  {
   "cell_type": "code",
   "execution_count": 14,
   "metadata": {},
   "outputs": [
    {
     "name": "stdout",
     "output_type": "stream",
     "text": [
      "(1700, 13)\n",
      "RangeIndex(start=0, stop=1700, step=1)\n"
     ]
    }
   ],
   "source": [
    "df = df.sort_index(axis=0, inplace=False)\n",
    "print(df.shape)\n",
    "print(df.index)"
   ]
  },
  {
   "cell_type": "markdown",
   "metadata": {},
   "source": [
    "### Question: Does each row correspond to a single order?"
   ]
  },
  {
   "cell_type": "code",
   "execution_count": 15,
   "metadata": {
    "scrolled": true
   },
   "outputs": [
    {
     "name": "stdout",
     "output_type": "stream",
     "text": [
      "The data frame has 1700 records, but it only has 1665 uniuqe order tracking numbers.\n",
      "This means there are 35 unique orders that show up more than once.\n"
     ]
    }
   ],
   "source": [
    "print('The data frame has', len(df), 'records, but it only has', df['state_tracking_num'].nunique(), 'uniuqe order tracking numbers.')\n",
    "print('This means there are', len(df) - df['state_tracking_num'].nunique(), 'unique orders that show up more than once.')"
   ]
  },
  {
   "cell_type": "markdown",
   "metadata": {},
   "source": [
    "Since we already eliminated any duplicated records, if an order still shows up more than once it means that it has different contents (maybe different items ordered, etc.)\n",
    "\n",
    "For now, we will keep track of which orders are repeated. We will come back to them later."
   ]
  },
  {
   "cell_type": "code",
   "execution_count": 16,
   "metadata": {},
   "outputs": [
    {
     "data": {
      "text/html": [
       "<div>\n",
       "<style scoped>\n",
       "    .dataframe tbody tr th:only-of-type {\n",
       "        vertical-align: middle;\n",
       "    }\n",
       "\n",
       "    .dataframe tbody tr th {\n",
       "        vertical-align: top;\n",
       "    }\n",
       "\n",
       "    .dataframe thead th {\n",
       "        text-align: right;\n",
       "    }\n",
       "</style>\n",
       "<table border=\"1\" class=\"dataframe\">\n",
       "  <thead>\n",
       "    <tr style=\"text-align: right;\">\n",
       "      <th></th>\n",
       "      <th>state_tracking_num</th>\n",
       "      <th>freq</th>\n",
       "    </tr>\n",
       "  </thead>\n",
       "  <tbody>\n",
       "    <tr>\n",
       "      <th>0</th>\n",
       "      <td>WA­\\r202031614964</td>\n",
       "      <td>3</td>\n",
       "    </tr>\n",
       "    <tr>\n",
       "      <th>1</th>\n",
       "      <td>WA­\\r20203612647</td>\n",
       "      <td>2</td>\n",
       "    </tr>\n",
       "    <tr>\n",
       "      <th>2</th>\n",
       "      <td>WA­\\r202031211437</td>\n",
       "      <td>2</td>\n",
       "    </tr>\n",
       "    <tr>\n",
       "      <th>3</th>\n",
       "      <td>WA­\\r20203617419</td>\n",
       "      <td>2</td>\n",
       "    </tr>\n",
       "    <tr>\n",
       "      <th>4</th>\n",
       "      <td>WA­\\r202032119371</td>\n",
       "      <td>2</td>\n",
       "    </tr>\n",
       "    <tr>\n",
       "      <th>...</th>\n",
       "      <td>...</td>\n",
       "      <td>...</td>\n",
       "    </tr>\n",
       "    <tr>\n",
       "      <th>1661</th>\n",
       "      <td>WA­\\r202031112770</td>\n",
       "      <td>1</td>\n",
       "    </tr>\n",
       "    <tr>\n",
       "      <th>1662</th>\n",
       "      <td>WA­\\r20203912244</td>\n",
       "      <td>1</td>\n",
       "    </tr>\n",
       "    <tr>\n",
       "      <th>1663</th>\n",
       "      <td>WA­\\r2020311731</td>\n",
       "      <td>1</td>\n",
       "    </tr>\n",
       "    <tr>\n",
       "      <th>1664</th>\n",
       "      <td>WA­\\r20203131694</td>\n",
       "      <td>1</td>\n",
       "    </tr>\n",
       "    <tr>\n",
       "      <th>1665</th>\n",
       "      <td>NaN</td>\n",
       "      <td>1</td>\n",
       "    </tr>\n",
       "  </tbody>\n",
       "</table>\n",
       "<p>1666 rows × 2 columns</p>\n",
       "</div>"
      ],
      "text/plain": [
       "     state_tracking_num  freq\n",
       "0     WA­\\r202031614964     3\n",
       "1      WA­\\r20203612647     2\n",
       "2     WA­\\r202031211437     2\n",
       "3      WA­\\r20203617419     2\n",
       "4     WA­\\r202032119371     2\n",
       "...                 ...   ...\n",
       "1661  WA­\\r202031112770     1\n",
       "1662   WA­\\r20203912244     1\n",
       "1663    WA­\\r2020311731     1\n",
       "1664   WA­\\r20203131694     1\n",
       "1665                NaN     1\n",
       "\n",
       "[1666 rows x 2 columns]"
      ]
     },
     "execution_count": 16,
     "metadata": {},
     "output_type": "execute_result"
    }
   ],
   "source": [
    "temp = pd.DataFrame(df['state_tracking_num'].value_counts(dropna=False)).reset_index()\n",
    "temp.columns = ['state_tracking_num', 'freq']\n",
    "temp"
   ]
  },
  {
   "cell_type": "code",
   "execution_count": 17,
   "metadata": {},
   "outputs": [
    {
     "data": {
      "text/plain": [
       "array(['WA\\xad\\r202031614964', 'WA\\xad\\r20203612647',\n",
       "       'WA\\xad\\r202031211437', 'WA\\xad\\r20203617419',\n",
       "       'WA\\xad\\r202032119371', 'WA\\xad\\r20203915119',\n",
       "       'WA\\xad\\r202031915538', 'WA\\xad\\r20203181038',\n",
       "       'WA\\xad\\r20203616981', 'WA\\xad\\r202031911715',\n",
       "       'WA\\xad\\r20203616887', 'WA\\xad\\r20202711574',\n",
       "       'WA\\xad\\r202031314749', 'WA\\xad\\r202031610530',\n",
       "       'WA\\xad\\r202031811195', 'WA\\xad\\r202031711996',\n",
       "       'WA\\xad\\r20203208193', 'WA\\xad\\r20203141221', 'WA\\xad\\r2020361778',\n",
       "       'WA\\xad\\r20203916918', 'WA\\xad\\r202031313984',\n",
       "       'WA\\xad\\r202032313344', 'WA\\xad\\r202031816446',\n",
       "       'WA\\xad\\r202031911593', 'WA\\xad\\r202031611277',\n",
       "       'WA\\xad\\r202031815909', 'WA\\xad\\r20203121179',\n",
       "       'WA\\xad\\r202032012435', 'WA\\xad\\r202032314841',\n",
       "       'WA\\xad\\r202031314137', 'WA\\xad\\r20203616886',\n",
       "       'WA\\xad\\r20203614585', 'WA\\xad\\r202031914299'], dtype=object)"
      ]
     },
     "execution_count": 17,
     "metadata": {},
     "output_type": "execute_result"
    }
   ],
   "source": [
    "repeated_orders = temp[temp['freq']>1]['state_tracking_num'].unique()\n",
    "repeated_orders"
   ]
  },
  {
   "cell_type": "code",
   "execution_count": 18,
   "metadata": {},
   "outputs": [
    {
     "data": {
      "text/plain": [
       "Int64Index([   5,    6,   73,  122,  126,  150,  185,  186,  201,  217,  229,\n",
       "             265,  268,  281,  337,  346,  398,  399,  422,  431,  444,  445,\n",
       "             446,  535,  626,  636,  687,  688,  694,  706,  743,  744,  775,\n",
       "             782,  825,  826,  842,  844,  891,  906,  939,  941,  974,  983,\n",
       "             991, 1046, 1063, 1069, 1098, 1142, 1216, 1255, 1357, 1377, 1415,\n",
       "            1450, 1464, 1465, 1481, 1510, 1597, 1604, 1625, 1641, 1643, 1658,\n",
       "            1659],\n",
       "           dtype='int64')"
      ]
     },
     "execution_count": 18,
     "metadata": {},
     "output_type": "execute_result"
    }
   ],
   "source": [
    "repeated_orders_idx = df[df['state_tracking_num'].isin(repeated_orders)].index\n",
    "repeated_orders_idx"
   ]
  },
  {
   "cell_type": "code",
   "execution_count": 19,
   "metadata": {},
   "outputs": [
    {
     "data": {
      "text/plain": [
       "33"
      ]
     },
     "execution_count": 19,
     "metadata": {},
     "output_type": "execute_result"
    }
   ],
   "source": [
    "df[df.index.isin(repeated_orders_idx)]['state_tracking_num'].nunique()"
   ]
  },
  {
   "cell_type": "markdown",
   "metadata": {},
   "source": [
    "# TODO\n",
    "The number of repeated orders drops. Find out why."
   ]
  },
  {
   "cell_type": "markdown",
   "metadata": {},
   "source": [
    "## Processing columns"
   ]
  },
  {
   "cell_type": "markdown",
   "metadata": {},
   "source": [
    "### Dates"
   ]
  },
  {
   "cell_type": "code",
   "execution_count": 20,
   "metadata": {},
   "outputs": [],
   "source": [
    "df['original_dt'] = df['original_date'].str.extract('^(\\d{2}\\/\\d{2}\\/\\d{4}).*$')\n",
    "df['original_dt'] = pd.to_datetime(df['original_dt'])\n",
    "\n",
    "df['update_dt'] = df['update_date'].str.extract('^(\\d{2}\\/\\d{2}\\/\\d{4}).*$')\n",
    "df['update_dt'] = pd.to_datetime(df['update_dt'])"
   ]
  },
  {
   "cell_type": "markdown",
   "metadata": {},
   "source": [
    "### Agencies"
   ]
  },
  {
   "cell_type": "code",
   "execution_count": 21,
   "metadata": {},
   "outputs": [
    {
     "name": "stdout",
     "output_type": "stream",
     "text": [
      "766\n",
      "676\n"
     ]
    },
    {
     "data": {
      "text/plain": [
       "PHSKC                                               120\n",
       "WA State DOH                                         82\n",
       "Snohomish Health District                            37\n",
       "DOH IMT                                              35\n",
       "Sacred Heart Medical                                 33\n",
       "Pierce County Emergency Management                   29\n",
       "Thurston County Emergency Management                 29\n",
       "Kitsap County Dept of Emergency Mgt                  21\n",
       "Klickitat Valley Health                              18\n",
       "KCEMS1                                               18\n",
       "Department of Corrections                            18\n",
       "Swedish Edmonds Medical                              18\n",
       "Providence Everett Medical                           16\n",
       "Swedish Mill Creek Medical                           14\n",
       "Clallam County EOC                                   13\n",
       "DSHS                                                 12\n",
       "Whidbey Health Medical                               12\n",
       "DSHS ­ Long Term Care IC                             11\n",
       "Skagit Regional Health                               10\n",
       "Okanogan EM / Aero Methow                            10\n",
       "City of Bothell                                      10\n",
       "AFH Management                                       10\n",
       "DCHS                                                 10\n",
       "Whatcom County Health Department                      8\n",
       "Grant County Health District                          8\n",
       "King County Emergency Management                      8\n",
       "WA EMD                                                8\n",
       "Holy Family Hospital                                  7\n",
       "Okanogan EM / Okanogan County Transit                 7\n",
       "Okanogan EM / Fire Dist 15 EMS                        7\n",
       "TRIOS Health                                          7\n",
       "Kadlec Medical                                        7\n",
       "HOLY FAMILY HOSPITAL                                  7\n",
       "Everett Police Department                             7\n",
       "Kitsap County Administrative Services Department      7\n",
       "Careage of Whidbey                                    6\n",
       "PeaceHealth SW Medical                                6\n",
       "City of Montesano                                     6\n",
       "King County Fire District #2 (Burien FD)              6\n",
       "Camano Island Fire Rescue                             6\n",
       "Department of Health                                  6\n",
       "Spokane County EMS                                    6\n",
       "Snohomish County Fire Task Force                      6\n",
       "Grays Harbor Community Hospital                       6\n",
       "Alpha Supported Living Services                       6\n",
       "Spokane County Sheriff                                6\n",
       "Camano Island Fire and Rescue                         6\n",
       "Rescare Homecare                                      6\n",
       "Klickitat Fire District 3                             5\n",
       "Snohomish County Sheriff                              5\n",
       "Name: agency, dtype: int64"
      ]
     },
     "execution_count": 21,
     "metadata": {},
     "output_type": "execute_result"
    }
   ],
   "source": [
    "print(df['originating_agency'].nunique())\n",
    "\n",
    "WA_DOH_regex = '^(DOH|WADOH|(WA )?WA DOH|(WA|Washington) State (Dept|Department) of Health)$'\n",
    "df['agency'] = df['originating_agency'].str.strip().str.replace('\\r', ' ')\n",
    "df['agency'] = df['agency'].str.replace(WA_DOH_regex, 'WA State DOH')\n",
    "df['agency'] = df['agency'].str.strip().str.replace('(Med(ical)? Center)', 'Medical')\n",
    "\n",
    "print(df['agency'].nunique())\n",
    "df['agency'].value_counts(dropna=False).head(50)"
   ]
  },
  {
   "cell_type": "markdown",
   "metadata": {},
   "source": [
    "### Counties and cities"
   ]
  },
  {
   "cell_type": "code",
   "execution_count": 22,
   "metadata": {},
   "outputs": [
    {
     "data": {
      "text/plain": [
       "0                       King\\rShoreline\n",
       "1                     Kitsap\\rBremerton\n",
       "2                         King\\rRedmond\n",
       "3                     Kitsap\\rBremerton\n",
       "4                         King\\rSeattle\n",
       "                     ...               \n",
       "1695    Pacific\\rChinook\\rIndian\\rTribe\n",
       "1696                  Kitsap\\rBremerton\n",
       "1697                      King\\rSeattle\n",
       "1698                              PHSKC\n",
       "1699                 Thurston\\rTumwater\n",
       "Name: county_city, Length: 1700, dtype: object"
      ]
     },
     "execution_count": 22,
     "metadata": {},
     "output_type": "execute_result"
    }
   ],
   "source": [
    "df['county_city'].str.strip()"
   ]
  },
  {
   "cell_type": "code",
   "execution_count": 23,
   "metadata": {},
   "outputs": [],
   "source": [
    "df[['county', 'city']] = df['county_city'].str.strip().str.split('\\r', expand=True, n=1)\n",
    "\n",
    "df['city'] = df['city'].str.replace('\\r', ' ')"
   ]
  },
  {
   "cell_type": "code",
   "execution_count": 24,
   "metadata": {},
   "outputs": [
    {
     "data": {
      "text/plain": [
       "King           505\n",
       "Snohomish      282\n",
       "Thurston       123\n",
       "Spokane         88\n",
       "Pierce          88\n",
       "Grays           55\n",
       "Klickitat       50\n",
       "Island          49\n",
       "Kitsap          47\n",
       "Skagit          46\n",
       "Okanogan        43\n",
       "Benton          30\n",
       "Clark           26\n",
       "Lewis           25\n",
       "Cowlitz         25\n",
       "Clallam         22\n",
       "Whatcom         21\n",
       "Jefferson       19\n",
       "Yakima          17\n",
       "Walla           17\n",
       "Grant           16\n",
       "Chelan          14\n",
       "Kittitas        13\n",
       "Franklin         9\n",
       "Pend             8\n",
       "Mason            8\n",
       "Pacific          7\n",
       "Columbia         6\n",
       "Adams            6\n",
       "Walla Walla      5\n",
       "San Juan         5\n",
       "Whitman          4\n",
       "Asotin           4\n",
       "Garfield         4\n",
       "Stevens          3\n",
       "Skamania         2\n",
       "Douglas          2\n",
       "03/18/2020       1\n",
       "Ferry            1\n",
       "03/22/2020       1\n",
       "PHSKC            1\n",
       "Lincoln          1\n",
       "NaN              1\n",
       "Name: county, dtype: int64"
      ]
     },
     "execution_count": 24,
     "metadata": {},
     "output_type": "execute_result"
    }
   ],
   "source": [
    "df['county'].value_counts(dropna=False)"
   ]
  },
  {
   "cell_type": "code",
   "execution_count": 25,
   "metadata": {},
   "outputs": [
    {
     "data": {
      "text/plain": [
       "Seattle                243\n",
       "Everett                141\n",
       "Spokane                 81\n",
       "Shoreline               79\n",
       "Tumwater                58\n",
       "Olympia                 56\n",
       "Coupeville              48\n",
       "Tacoma                  42\n",
       "Goldendale              41\n",
       "Bremerton               37\n",
       "Renton                  31\n",
       "Lakewood                29\n",
       "Anacortes               28\n",
       "Vancouver               26\n",
       "Bothell                 23\n",
       "Bellevue                22\n",
       "Edmonds                 22\n",
       "Longview                21\n",
       "Harbor Aberdeen         21\n",
       "Snohomish               18\n",
       "Harbor Montesano        17\n",
       "Walla Walla Walla       17\n",
       "Arlington               16\n",
       "Okanogan                16\n",
       "Benton City             16\n",
       "Mill Creek              16\n",
       "Bellingham              15\n",
       "Algona                  15\n",
       "Kirkland                15\n",
       "Port Townsend           14\n",
       "Marysville              14\n",
       "Redmond                 13\n",
       "Kent                    13\n",
       "Port Angeles            11\n",
       "Twisp                   11\n",
       "Yakima                  11\n",
       "Monroe                  11\n",
       "Mount Vernon            10\n",
       "Ellensburg              10\n",
       "Coulee City             10\n",
       "Mountlake Terrace       10\n",
       "Wenatchee                9\n",
       "Kennewick                9\n",
       "Oreille Cusick           8\n",
       "Chehalis                 8\n",
       "Auburn                   8\n",
       "Tukwila                  8\n",
       "Mercer Island            8\n",
       "Harbor Ocean Shores      7\n",
       "Connell                  7\n",
       "Name: city, dtype: int64"
      ]
     },
     "execution_count": 25,
     "metadata": {},
     "output_type": "execute_result"
    }
   ],
   "source": [
    "df['city'].value_counts(dropna=False).head(50)"
   ]
  },
  {
   "cell_type": "markdown",
   "metadata": {},
   "source": [
    "### Overall status"
   ]
  },
  {
   "cell_type": "code",
   "execution_count": 26,
   "metadata": {},
   "outputs": [
    {
     "data": {
      "text/plain": [
       "Assigned      1047\n",
       "Accepted       200\n",
       "Completed      172\n",
       "Unassigned     166\n",
       "Cancelled       84\n",
       "On Scene        16\n",
       "In Transit      11\n",
       "On\\rScene        2\n",
       "County           2\n",
       "Name: overall_status, dtype: int64"
      ]
     },
     "execution_count": 26,
     "metadata": {},
     "output_type": "execute_result"
    }
   ],
   "source": [
    "df['overall_status'].value_counts(dropna=True)"
   ]
  },
  {
   "cell_type": "code",
   "execution_count": 27,
   "metadata": {},
   "outputs": [
    {
     "data": {
      "text/plain": [
       "Assigned      1047\n",
       "Accepted       200\n",
       "Completed      172\n",
       "Unassigned     166\n",
       "Cancelled       84\n",
       "On Scene        18\n",
       "In Transit      11\n",
       "County           2\n",
       "Name: overall_stus, dtype: int64"
      ]
     },
     "execution_count": 27,
     "metadata": {},
     "output_type": "execute_result"
    }
   ],
   "source": [
    "df['overall_stus'] = df['overall_status'].str.strip().str.replace('On\\rScene','On Scene')\n",
    "\n",
    "df['overall_stus'].value_counts(dropna=True)"
   ]
  },
  {
   "cell_type": "markdown",
   "metadata": {},
   "source": [
    "### Assignment status"
   ]
  },
  {
   "cell_type": "code",
   "execution_count": 28,
   "metadata": {},
   "outputs": [
    {
     "data": {
      "text/plain": [
       "Assigned                                     921\n",
       "NaN                                          339\n",
       "Completed                                    107\n",
       "Accepted                                      98\n",
       "Assigned\\rAssigned                            94\n",
       "Cancelled                                     46\n",
       "On Scene                                      15\n",
       "Completed\\rCompleted                          13\n",
       "In Transit                                    11\n",
       "Unassigned                                     8\n",
       "Cancelled\\rCancelled                           7\n",
       "Assigned\\rAssigned\\rAssigned                   6\n",
       "Assigned\\rCompleted                            5\n",
       "Accepted\\rAccepted                             4\n",
       "Assigned\\rAccepted                             4\n",
       "Completed\\rCompleted\\rCompleted                3\n",
       "Unassigned\\rAssigned                           2\n",
       "Accepted\\rCompleted                            2\n",
       "Cancelled\\rAccepted                            2\n",
       "Unassigned\\rCompleted                          1\n",
       "Accepted\\rUnassigned                           1\n",
       "Assigned\\rAssigned\\rAssigned\\rAssigned         1\n",
       "Completed\\rAssigned                            1\n",
       "Accepted\\rAssigned                             1\n",
       "On Scene\\rCompleted\\rCompleted\\rCompleted      1\n",
       "Logistics Section                              1\n",
       "Cancelled\\rAssigned                            1\n",
       "Completed\\rCompleted\\rAssigned                 1\n",
       "In Transit\\rIn Transit                         1\n",
       "Assigned\\rCancelled                            1\n",
       "On Scene\\rCancelled                            1\n",
       "Completed\\rCancelled                           1\n",
       "Name: assignment_status, dtype: int64"
      ]
     },
     "execution_count": 28,
     "metadata": {},
     "output_type": "execute_result"
    }
   ],
   "source": [
    "df['assignment_status'].value_counts(dropna=False)"
   ]
  },
  {
   "cell_type": "code",
   "execution_count": 29,
   "metadata": {},
   "outputs": [
    {
     "data": {
      "text/plain": [
       "Assigned                 1022\n",
       "Completed                 123\n",
       "Accepted                  102\n",
       "Cancelled                  53\n",
       "On Scene                   15\n",
       "In Transit                 12\n",
       "Unassigned                  8\n",
       "Assigned\\rCompleted         5\n",
       "Assigned\\rAccepted          4\n",
       "Accepted\\rCompleted         2\n",
       "Completed\\rAssigned         2\n",
       "Unassigned\\rAssigned        2\n",
       "Cancelled\\rAccepted         2\n",
       "On Scene\\rCompleted         1\n",
       "Unassigned\\rCompleted       1\n",
       "Accepted\\rUnassigned        1\n",
       "Accepted\\rAssigned          1\n",
       "Logistics Section           1\n",
       "Cancelled\\rAssigned         1\n",
       "Assigned\\rCancelled         1\n",
       "On Scene\\rCancelled         1\n",
       "Completed\\rCancelled        1\n",
       "Name: assignment_stus, dtype: int64"
      ]
     },
     "execution_count": 29,
     "metadata": {},
     "output_type": "execute_result"
    }
   ],
   "source": [
    "df['assignment_stus'] = df['assignment_status'].str.strip().str.replace('(Assigned\\rAssigned(\\rAssigned)?(\\rAssigned)?)','Assigned')\n",
    "df['assignment_stus'] = df['assignment_stus'].str.strip().str.replace('(Completed\\rCompleted(\\rCompleted)?)','Completed')\n",
    "df['assignment_stus'] = df['assignment_stus'].str.strip().str.replace('Cancelled\\rCancelled','Cancelled')\n",
    "df['assignment_stus'] = df['assignment_stus'].str.strip().str.replace('Accepted\\rAccepted','Accepted')\n",
    "df['assignment_stus'] = df['assignment_stus'].str.strip().str.replace('In Transit\\rIn Transit','In Transit')\n",
    "\n",
    "df['assignment_stus'].value_counts(dropna=True)"
   ]
  },
  {
   "cell_type": "markdown",
   "metadata": {},
   "source": [
    "### Worked by"
   ]
  },
  {
   "cell_type": "code",
   "execution_count": 30,
   "metadata": {},
   "outputs": [
    {
     "data": {
      "text/plain": [
       "County       1285\n",
       "State         300\n",
       "City          112\n",
       "Completed       1\n",
       "Name: worked_by, dtype: int64"
      ]
     },
     "execution_count": 30,
     "metadata": {},
     "output_type": "execute_result"
    }
   ],
   "source": [
    "df['worked_by'].value_counts(dropna=True)"
   ]
  },
  {
   "cell_type": "markdown",
   "metadata": {},
   "source": [
    "### Priority"
   ]
  },
  {
   "cell_type": "code",
   "execution_count": 31,
   "metadata": {},
   "outputs": [
    {
     "data": {
      "text/plain": [
       "Incident\\rStabilization                   1580\n",
       "NaN                                         63\n",
       "Life Saving                                 46\n",
       "Property\\rPreservation                       8\n",
       "Medical protective\\requipment/supplies       1\n",
       "Medical\\requipment                           1\n",
       "City                                         1\n",
       "Name: priority, dtype: int64"
      ]
     },
     "execution_count": 31,
     "metadata": {},
     "output_type": "execute_result"
    }
   ],
   "source": [
    "df['priority'].value_counts(dropna=False)"
   ]
  },
  {
   "cell_type": "code",
   "execution_count": 32,
   "metadata": {},
   "outputs": [
    {
     "data": {
      "text/plain": [
       "Incident Stabilization    1580\n",
       "NaN                         63\n",
       "Life Saving                 46\n",
       "Property Preservation        8\n",
       "Medical equipment            2\n",
       "City                         1\n",
       "Name: pty, dtype: int64"
      ]
     },
     "execution_count": 32,
     "metadata": {},
     "output_type": "execute_result"
    }
   ],
   "source": [
    "df['pty'] = df['priority'].str.replace('\\r', ' ').str.replace('Medical protective equipment/supplies', 'Medical equipment')\n",
    "df['pty'].value_counts(dropna=False)"
   ]
  },
  {
   "cell_type": "markdown",
   "metadata": {},
   "source": [
    "### Assigned to"
   ]
  },
  {
   "cell_type": "code",
   "execution_count": 33,
   "metadata": {},
   "outputs": [
    {
     "data": {
      "text/plain": [
       "Logistics Section                                                                    879\n",
       "NaN                                                                                  549\n",
       "Logistics Section\\rLogistics Section                                                  88\n",
       "Planning Section                                                                      65\n",
       "ESF 7­Resource Management                                                             19\n",
       "Logistics Intergovernmental Resources Branch                                          18\n",
       "Operations Section                                                                    12\n",
       "Logistics Deploy and Planning Branch                                                  12\n",
       "Planning Section\\rPlanning Section                                                     8\n",
       "Logistics Section\\rLogistics Section\\rLogistics Section                                5\n",
       "Operations Section\\rPlanning Section                                                   4\n",
       "Finance and Administration Section                                                     4\n",
       "Logistics Commercial Resource Branch                                                   3\n",
       "ESF 15­External Affairs                                                                2\n",
       "Planning Section\\rPlanning Section\\rPlanning Section                                   2\n",
       "EMAC A­Team                                                                            2\n",
       "ESF 7­Resource Management\\rESF 7­Resource Management                                   2\n",
       "ESF 4­Firefighting                                                                     2\n",
       "Operations Section\\rLogistics Section                                                  2\n",
       "Logistics Deploy and Planning Branch\\rLogistics Deploy and Planning Branch             2\n",
       "Logistics Section\\rOperations Section                                                  1\n",
       "Planning Section\\rLogistics Section                                                    1\n",
       "ESF 1­Transportation\\rPlanning Section                                                 1\n",
       "EOC Supervisor\\rOperations Section                                                     1\n",
       "ESF 13­Public Safety and Security                                                      1\n",
       "ESF 3­Public Works and Engineering                                                     1\n",
       "Logistics Section\\rLogistics Deploy and Planning Branch                                1\n",
       "Disaster Manager                                                                       1\n",
       "ESF 1­Transportation                                                                   1\n",
       "ESF 4­Firefighting\\rLogistics Intergovernmental Resources Branch                       1\n",
       "ESF 4­Firefighting\\rPlanning Section                                                   1\n",
       "Planning Section\\rLogistics Deploy and Planning Branch                                 1\n",
       "Movement Coordination                                                                  1\n",
       "ESF 15­External Affairs\\rLogistics Deploy and Planning Branch\\rESF 4­Firefighting      1\n",
       "Logistics Section\\rLogistics Section\\rLogistics Section\\rLogistics Section             1\n",
       "ESF 20­Defense Support to Civil Authorities                                            1\n",
       "ESF 2­Communication                                                                    1\n",
       "ESF 15­External Affairs\\rLogistics Intergovernmental Resources Branch                  1\n",
       "ESF 1­Transportation\\rESF 1­Transportation                                             1\n",
       "Logistics Section\\rMovement Coordination                                               1\n",
       "Name: assigned_to, dtype: int64"
      ]
     },
     "execution_count": 33,
     "metadata": {},
     "output_type": "execute_result"
    }
   ],
   "source": [
    "df['assigned_to'].value_counts(dropna=False)"
   ]
  },
  {
   "cell_type": "code",
   "execution_count": 34,
   "metadata": {},
   "outputs": [
    {
     "data": {
      "text/plain": [
       "Logistics Section                                                                    973\n",
       "NaN                                                                                  549\n",
       "Planning Section                                                                      75\n",
       "ESF 7­Resource Management                                                             19\n",
       "Logistics Intergovernmental Resources Branch                                          18\n",
       "Operations Section                                                                    12\n",
       "Logistics Deploy and Planning Branch                                                  12\n",
       "Finance and Administration Section                                                     4\n",
       "Operations Section\\rPlanning Section                                                   4\n",
       "Logistics Commercial Resource Branch                                                   3\n",
       "Operations Section\\rLogistics Section                                                  2\n",
       "ESF 7­Resource Management\\rESF 7­Resource Management                                   2\n",
       "ESF 15­External Affairs                                                                2\n",
       "EMAC A­Team                                                                            2\n",
       "Logistics Deploy and Planning Branch\\rLogistics Deploy and Planning Branch             2\n",
       "ESF 4­Firefighting                                                                     2\n",
       "Movement Coordination                                                                  1\n",
       "Logistics Section\\rOperations Section                                                  1\n",
       "ESF 13­Public Safety and Security                                                      1\n",
       "EOC Supervisor\\rOperations Section                                                     1\n",
       "Planning Section\\rLogistics Section                                                    1\n",
       "ESF 15­External Affairs\\rLogistics Intergovernmental Resources Branch                  1\n",
       "Logistics Section\\rLogistics Deploy and Planning Branch                                1\n",
       "ESF 1­Transportation\\rPlanning Section                                                 1\n",
       "ESF 3­Public Works and Engineering                                                     1\n",
       "ESF 2­Communication                                                                    1\n",
       "ESF 1­Transportation                                                                   1\n",
       "ESF 4­Firefighting\\rLogistics Intergovernmental Resources Branch                       1\n",
       "ESF 20­Defense Support to Civil Authorities                                            1\n",
       "ESF 4­Firefighting\\rPlanning Section                                                   1\n",
       "Planning Section\\rLogistics Deploy and Planning Branch                                 1\n",
       "Logistics Section\\rMovement Coordination                                               1\n",
       "ESF 1­Transportation\\rESF 1­Transportation                                             1\n",
       "ESF 15­External Affairs\\rLogistics Deploy and Planning Branch\\rESF 4­Firefighting      1\n",
       "Disaster Manager                                                                       1\n",
       "Name: assignee, dtype: int64"
      ]
     },
     "execution_count": 34,
     "metadata": {},
     "output_type": "execute_result"
    }
   ],
   "source": [
    "df['assignee'] = df['assigned_to'].str.replace('(Logistics Section(\\rLogistics Section)*)', 'Logistics Section')\n",
    "df['assignee'] = df['assignee'].str.replace('(Planning Section(\\rPlanning Section)*)', 'Planning Section')\n",
    "\n",
    "df['assignee'].value_counts(dropna=False)"
   ]
  },
  {
   "cell_type": "code",
   "execution_count": 35,
   "metadata": {},
   "outputs": [
    {
     "name": "stdout",
     "output_type": "stream",
     "text": [
      "(1700, 22)\n"
     ]
    },
    {
     "data": {
      "text/plain": [
       "RangeIndex(start=0, stop=1700, step=1)"
      ]
     },
     "execution_count": 35,
     "metadata": {},
     "output_type": "execute_result"
    }
   ],
   "source": [
    "print(df.shape)\n",
    "df.index"
   ]
  },
  {
   "cell_type": "markdown",
   "metadata": {},
   "source": [
    "# Subject (items)"
   ]
  },
  {
   "cell_type": "markdown",
   "metadata": {},
   "source": [
    "## Exploding the data frame"
   ]
  },
  {
   "cell_type": "markdown",
   "metadata": {},
   "source": [
    "We will now create an expanded version of the dataframe. So far, each row was supposed to represent one unique order. Now, each order will have as many rows as type of items it requested.\n",
    "\n",
    "So we will need two versions of the data (i.e., two dataframes): A compact one that only reflects the orders, and and expanded one that reflects the ordered items."
   ]
  },
  {
   "cell_type": "code",
   "execution_count": 36,
   "metadata": {},
   "outputs": [],
   "source": [
    "df_compact = df.copy(deep=True)\n",
    "df_expanded = df.copy(deep=True)"
   ]
  },
  {
   "cell_type": "markdown",
   "metadata": {},
   "source": [
    "Create a new column that will contain a list of all items requested in each order."
   ]
  },
  {
   "cell_type": "code",
   "execution_count": 37,
   "metadata": {},
   "outputs": [],
   "source": [
    "df_expanded['subject_list'] = df_expanded['subject'].str.split('/') #('\\r|,|/')"
   ]
  },
  {
   "cell_type": "code",
   "execution_count": 38,
   "metadata": {},
   "outputs": [
    {
     "data": {
      "text/html": [
       "<div>\n",
       "<style scoped>\n",
       "    .dataframe tbody tr th:only-of-type {\n",
       "        vertical-align: middle;\n",
       "    }\n",
       "\n",
       "    .dataframe tbody tr th {\n",
       "        vertical-align: top;\n",
       "    }\n",
       "\n",
       "    .dataframe thead th {\n",
       "        text-align: right;\n",
       "    }\n",
       "</style>\n",
       "<table border=\"1\" class=\"dataframe\">\n",
       "  <thead>\n",
       "    <tr style=\"text-align: right;\">\n",
       "      <th></th>\n",
       "      <th>subject_list</th>\n",
       "    </tr>\n",
       "  </thead>\n",
       "  <tbody>\n",
       "    <tr>\n",
       "      <th>0</th>\n",
       "      <td>[Staffing,\\rShoreline,\\rLead Planner]</td>\n",
       "    </tr>\n",
       "    <tr>\n",
       "      <th>1</th>\n",
       "      <td>[Masks ,  Wipes\\r,  Gowns , \\rGloves , \\rSanit...</td>\n",
       "    </tr>\n",
       "    <tr>\n",
       "      <th>2</th>\n",
       "      <td>[Mask,\\rProcedure , \\rGoggles,\\rSafety , \\rGow...</td>\n",
       "    </tr>\n",
       "    <tr>\n",
       "      <th>3</th>\n",
       "      <td>[Mask, N95, , \\r50 ,  PPE for\\rTier 3 , \\rHeal...</td>\n",
       "    </tr>\n",
       "    <tr>\n",
       "      <th>4</th>\n",
       "      <td>[gown,\\rprocedure , \\rmask , \\rgoggles]</td>\n",
       "    </tr>\n",
       "  </tbody>\n",
       "</table>\n",
       "</div>"
      ],
      "text/plain": [
       "                                        subject_list\n",
       "0              [Staffing,\\rShoreline,\\rLead Planner]\n",
       "1  [Masks ,  Wipes\\r,  Gowns , \\rGloves , \\rSanit...\n",
       "2  [Mask,\\rProcedure , \\rGoggles,\\rSafety , \\rGow...\n",
       "3  [Mask, N95, , \\r50 ,  PPE for\\rTier 3 , \\rHeal...\n",
       "4            [gown,\\rprocedure , \\rmask , \\rgoggles]"
      ]
     },
     "execution_count": 38,
     "metadata": {},
     "output_type": "execute_result"
    }
   ],
   "source": [
    "df_expanded[['subject_list']].head()"
   ]
  },
  {
   "cell_type": "markdown",
   "metadata": {},
   "source": [
    "Right now, each record (row) represents one and only one order. \n",
    "\n",
    "Now, we will 'explode' each row according to the number of items contained in each order, listed in *subject_list*. So if order X requested Y different types of items, there will now be Y rows for that order, instead of only one.\n"
   ]
  },
  {
   "cell_type": "code",
   "execution_count": 39,
   "metadata": {},
   "outputs": [
    {
     "name": "stdout",
     "output_type": "stream",
     "text": [
      "The exploded dataframe should have exactly 2914 rows.\n"
     ]
    }
   ],
   "source": [
    "# Count the number of orders that don't show any ordered items\n",
    "temp = df_expanded[~df_expanded['subject_list'].isna()]\n",
    "temp_lenght = len(df_expanded[df_expanded['subject_list'].isna()])\n",
    "\n",
    "# Count the aggregate number of order/item events\n",
    "num_items = 0\n",
    "for subject in temp['subject_list']:\n",
    "    num_items += len(subject)\n",
    "    \n",
    "\n",
    "print('The exploded dataframe should have exactly', num_items + temp_lenght, 'rows.')"
   ]
  },
  {
   "cell_type": "code",
   "execution_count": 40,
   "metadata": {},
   "outputs": [
    {
     "name": "stdout",
     "output_type": "stream",
     "text": [
      "(2914, 23)\n",
      "Int64Index([   0,    1,    1,    1,    1,    1,    2,    2,    2,    3,\n",
      "            ...\n",
      "            1691, 1692, 1693, 1694, 1695, 1696, 1696, 1697, 1698, 1699],\n",
      "           dtype='int64', length=2914)\n"
     ]
    }
   ],
   "source": [
    "df_expanded = df_expanded.explode('subject_list')\n",
    "df_expanded['subject_list'] = df_expanded['subject_list'].str.lower().str.strip()\n",
    "\n",
    "print(df_expanded.shape)\n",
    "print(df_expanded.index)\n",
    "\n",
    "# Consistency test\n",
    "assert len(df_expanded) == num_items + temp_lenght"
   ]
  },
  {
   "cell_type": "markdown",
   "metadata": {},
   "source": [
    "Eliminate rows where 'subject_list' resulted in an empty cell. First thing to know: how many records have an empty 'subject_list' field?"
   ]
  },
  {
   "cell_type": "code",
   "execution_count": 41,
   "metadata": {},
   "outputs": [
    {
     "data": {
      "text/plain": [
       "    23\n",
       "Name: subject_list, dtype: int64"
      ]
     },
     "execution_count": 41,
     "metadata": {},
     "output_type": "execute_result"
    }
   ],
   "source": [
    "df_expanded[df_expanded['subject_list'].str.match('^$', na=False)]['subject_list'].value_counts()"
   ]
  },
  {
   "cell_type": "markdown",
   "metadata": {},
   "source": [
    "In the next line, we get rid of the records were the 'subject_list' fields shows up empty.\n",
    "\n",
    "**Important**: Notice we are not resetting the index. This is because each index of the df_expanded represents a unique order, so we want to keep that original index."
   ]
  },
  {
   "cell_type": "code",
   "execution_count": 42,
   "metadata": {},
   "outputs": [
    {
     "name": "stdout",
     "output_type": "stream",
     "text": [
      "(2891, 23)\n",
      "Int64Index([   0,    1,    1,    1,    1,    1,    2,    2,    2,    3,\n",
      "            ...\n",
      "            1691, 1692, 1693, 1694, 1695, 1696, 1696, 1697, 1698, 1699],\n",
      "           dtype='int64', length=2891)\n"
     ]
    }
   ],
   "source": [
    "df_expanded = df_expanded[~df_expanded['subject_list'].str.match('^$', na=False)]\n",
    "print(df_expanded.shape)\n",
    "print(df_expanded.index)"
   ]
  },
  {
   "cell_type": "markdown",
   "metadata": {},
   "source": [
    "## Standardizing items"
   ]
  },
  {
   "cell_type": "code",
   "execution_count": 43,
   "metadata": {},
   "outputs": [],
   "source": [
    "df_expanded['subject_std'] = np.nan\n",
    "\n",
    "df_expanded.loc[df_expanded['subject_list'].str.lower().str.match('^.*thermometer.*$', na=False), 'subject_std'] = 'Thermometers'\n",
    "df_expanded.loc[df_expanded['subject_list'].str.lower().str.match('medical protective\\requipment', na=False), 'subject_std'] = 'Protective Equipment'\n",
    "df_expanded.loc[df_expanded['subject_list'].str.lower().str.match('medication', na=False), 'subject_std'] = 'Medication'\n",
    "df_expanded.loc[df_expanded['subject_list'].str.lower().str.match('^.*swab.*$', na=False), 'subject_std'] = 'SWABS'\n",
    "df_expanded.loc[df_expanded['subject_list'].str.lower().str.match('^.*soap.*$', na=False), 'subject_std'] = 'Soap'\n",
    "df_expanded.loc[df_expanded['subject_list'].str.lower().str.match('^.*(face\\sshield|shields?,\\sface|shield,\\rface|face\\rshields).*$', na=False), 'subject_std'] = 'Face Shield'\n",
    "df_expanded.loc[df_expanded['subject_list'].str.lower().str.match('^.*(gogg|glasses|eye\\r?\\s?protection).*$', na=False), 'subject_std'] = 'Goggles/Glasses'\n",
    "df_expanded.loc[df_expanded['subject_list'].str.lower().str.match('ppe', na=False), 'subject_std'] = 'PPE'\n",
    "df_expanded.loc[df_expanded['subject_list'].str.lower().str.match('^.*(\\r?disinfect|\\r?sanit|sanatizer|bleach|wipe).*$', na=False), 'subject_std'] = 'Disinfectant/Sanitizer'\n",
    "df_expanded.loc[df_expanded['subject_list'].str.lower().str.match('^.*staffing.*$', na=False), 'subject_std'] = 'Staffing'\n",
    "df_expanded.loc[df_expanded['subject_list'].str.lower().str.match('^.*glove.*$', na=False), 'subject_std'] = 'Gloves'\n",
    "df_expanded.loc[df_expanded['subject_list'].str.lower().str.match('^.*gown.*$', na=False), 'subject_std'] = 'Gowns'\n",
    "df_expanded.loc[df_expanded['subject_list'].str.lower().str.match('^.*mask.*$', na=False), 'subject_std'] = 'Masks'"
   ]
  },
  {
   "cell_type": "code",
   "execution_count": 44,
   "metadata": {},
   "outputs": [
    {
     "data": {
      "text/plain": [
       "NaN                       0.276029\n",
       "Masks                     0.265306\n",
       "Disinfectant/Sanitizer    0.114839\n",
       "Gowns                     0.110342\n",
       "Gloves                    0.084054\n",
       "Face Shield               0.034244\n",
       "Staffing                  0.032515\n",
       "Goggles/Glasses           0.031477\n",
       "PPE                       0.019716\n",
       "Thermometers              0.012452\n",
       "SWABS                     0.008302\n",
       "Protective Equipment      0.005189\n",
       "Soap                      0.003113\n",
       "Medication                0.002421\n",
       "Name: subject_std, dtype: float64"
      ]
     },
     "execution_count": 44,
     "metadata": {},
     "output_type": "execute_result"
    }
   ],
   "source": [
    "df_expanded['subject_std'].value_counts(dropna=False, normalize=True)"
   ]
  },
  {
   "cell_type": "code",
   "execution_count": 45,
   "metadata": {},
   "outputs": [
    {
     "name": "stdout",
     "output_type": "stream",
     "text": [
      "Int64Index([   0,    1,    1,    1,    1,    1,    2,    2,    2,    3,\n",
      "            ...\n",
      "            1691, 1692, 1693, 1694, 1695, 1696, 1696, 1697, 1698, 1699],\n",
      "           dtype='int64', length=2891)\n"
     ]
    }
   ],
   "source": [
    "print(df_expanded.index)"
   ]
  },
  {
   "cell_type": "markdown",
   "metadata": {},
   "source": [
    "### Back to those repeated orders"
   ]
  },
  {
   "cell_type": "code",
   "execution_count": 46,
   "metadata": {},
   "outputs": [
    {
     "name": "stdout",
     "output_type": "stream",
     "text": [
      "100\n",
      "91\n"
     ]
    }
   ],
   "source": [
    "del(temp)\n",
    "temp = df_expanded[df_expanded['state_tracking_num'].isin(repeated_orders)].sort_values(by='state_tracking_num')\n",
    "# temp = temp[['state_tracking_num', 'subject_list']]\n",
    "temp = temp.replace('\\r', ' ', regex=True)\n",
    "\n",
    "print(len(temp))\n",
    "print(len(temp.drop_duplicates()))\n",
    "\n",
    "# temp.to_csv('repeated_orders.csv')"
   ]
  },
  {
   "cell_type": "markdown",
   "metadata": {},
   "source": [
    "## Final cleaning"
   ]
  },
  {
   "cell_type": "markdown",
   "metadata": {},
   "source": [
    "### Away with the old columns"
   ]
  },
  {
   "cell_type": "markdown",
   "metadata": {},
   "source": [
    "Let's slim down the dataframe by keeping only the transformed versions of the columns we have processed so far."
   ]
  },
  {
   "cell_type": "code",
   "execution_count": 47,
   "metadata": {},
   "outputs": [
    {
     "data": {
      "text/plain": [
       "Index(['original_date', 'update_date', 'county_city', 'originating_agency',\n",
       "       'jurisdictiont_tracking_num', 'state_tracking_num',\n",
       "       'emac_federal_ma_num', 'subject', 'priority', 'worked_by',\n",
       "       'overall_status', 'assignment_status', 'assigned_to', 'original_dt',\n",
       "       'update_dt', 'agency', 'county', 'city', 'overall_stus',\n",
       "       'assignment_stus', 'pty', 'assignee'],\n",
       "      dtype='object')"
      ]
     },
     "execution_count": 47,
     "metadata": {},
     "output_type": "execute_result"
    }
   ],
   "source": [
    "df_compact.columns"
   ]
  },
  {
   "cell_type": "code",
   "execution_count": 48,
   "metadata": {},
   "outputs": [],
   "source": [
    "df_compact = df_compact[['original_dt', 'update_dt', 'agency', 'county', 'city',\n",
    "                          'subject', 'pty', 'worked_by','overall_stus', 'assignment_stus', \n",
    "                          'assignee','jurisdictiont_tracking_num', 'state_tracking_num', 'emac_federal_ma_num']]"
   ]
  },
  {
   "cell_type": "code",
   "execution_count": 49,
   "metadata": {},
   "outputs": [],
   "source": [
    "df_expanded = df_expanded[['original_dt', 'update_dt', 'agency', 'county', 'city',\n",
    "         'subject_list', 'subject_std', 'pty', 'worked_by','overall_stus', 'assignment_stus', 'assignee',\n",
    "         'jurisdictiont_tracking_num', 'state_tracking_num', 'emac_federal_ma_num']]"
   ]
  },
  {
   "cell_type": "code",
   "execution_count": 50,
   "metadata": {},
   "outputs": [
    {
     "name": "stdout",
     "output_type": "stream",
     "text": [
      "(1700, 14)\n",
      "RangeIndex(start=0, stop=1700, step=1)\n"
     ]
    }
   ],
   "source": [
    "print(df_compact.shape)\n",
    "print(df_compact.index)"
   ]
  },
  {
   "cell_type": "code",
   "execution_count": 51,
   "metadata": {},
   "outputs": [
    {
     "name": "stdout",
     "output_type": "stream",
     "text": [
      "(2891, 15)\n",
      "Int64Index([   0,    1,    1,    1,    1,    1,    2,    2,    2,    3,\n",
      "            ...\n",
      "            1691, 1692, 1693, 1694, 1695, 1696, 1696, 1697, 1698, 1699],\n",
      "           dtype='int64', length=2891)\n"
     ]
    }
   ],
   "source": [
    "print(df_expanded.shape)\n",
    "print(df_expanded.index)"
   ]
  },
  {
   "cell_type": "markdown",
   "metadata": {},
   "source": [
    "### Eliminate carriage return characters"
   ]
  },
  {
   "cell_type": "markdown",
   "metadata": {},
   "source": [
    "We used the the carriage return characters (\\r) several times to break down the data in various columns, most importantly *subject*. Now that we have no use for the ones that remain, we need to eliminate them. Otherwise, when we export the dataframe into a CSV file it will come out in shambles."
   ]
  },
  {
   "cell_type": "code",
   "execution_count": 52,
   "metadata": {},
   "outputs": [],
   "source": [
    "df_compact = df_compact.replace('\\r', ' ', regex=True)\n",
    "df_expanded = df_expanded.replace('\\r', ' ', regex=True)"
   ]
  },
  {
   "cell_type": "code",
   "execution_count": 53,
   "metadata": {},
   "outputs": [
    {
     "name": "stdout",
     "output_type": "stream",
     "text": [
      "(1700, 14)\n",
      "RangeIndex(start=0, stop=1700, step=1)\n"
     ]
    }
   ],
   "source": [
    "print(df_compact.shape)\n",
    "print(df_compact.index)"
   ]
  },
  {
   "cell_type": "code",
   "execution_count": 54,
   "metadata": {},
   "outputs": [
    {
     "name": "stdout",
     "output_type": "stream",
     "text": [
      "(2891, 15)\n",
      "Int64Index([   0,    1,    1,    1,    1,    1,    2,    2,    2,    3,\n",
      "            ...\n",
      "            1691, 1692, 1693, 1694, 1695, 1696, 1696, 1697, 1698, 1699],\n",
      "           dtype='int64', length=2891)\n"
     ]
    }
   ],
   "source": [
    "print(df_expanded.shape)\n",
    "print(df_expanded.index)"
   ]
  },
  {
   "cell_type": "markdown",
   "metadata": {},
   "source": [
    "#### Where there any duplicates created after we exploded the subject items, elimnated carriage returns, etc?"
   ]
  },
  {
   "cell_type": "code",
   "execution_count": 55,
   "metadata": {},
   "outputs": [
    {
     "name": "stdout",
     "output_type": "stream",
     "text": [
      "2891\n",
      "2876\n",
      "15\n"
     ]
    }
   ],
   "source": [
    "print(len(df_expanded))\n",
    "print(len(df_expanded.drop_duplicates()))\n",
    "print(len(df_expanded) - len(df_expanded.drop_duplicates()))"
   ]
  },
  {
   "cell_type": "markdown",
   "metadata": {},
   "source": [
    "Apparently just a tiny few. We have no reason to suspect these are not valid records, but let's be conservative and use only those that are strictly unique.\n",
    "\n",
    "**Important**: We are kepping the original index, as it correspods to unique orders."
   ]
  },
  {
   "cell_type": "code",
   "execution_count": 56,
   "metadata": {},
   "outputs": [],
   "source": [
    "df_expanded.drop_duplicates(keep='first', inplace=True, ignore_index=False)"
   ]
  },
  {
   "cell_type": "code",
   "execution_count": 57,
   "metadata": {},
   "outputs": [
    {
     "name": "stdout",
     "output_type": "stream",
     "text": [
      "2876\n",
      "2876\n",
      "Int64Index([   0,    1,    1,    1,    1,    1,    2,    2,    2,    3,\n",
      "            ...\n",
      "            1691, 1692, 1693, 1694, 1695, 1696, 1696, 1697, 1698, 1699],\n",
      "           dtype='int64', length=2876)\n"
     ]
    }
   ],
   "source": [
    "print(len(df_expanded))\n",
    "print(len(df_expanded.drop_duplicates()))\n",
    "print(df_expanded.index)"
   ]
  },
  {
   "cell_type": "markdown",
   "metadata": {},
   "source": [
    "# Statistics"
   ]
  },
  {
   "cell_type": "markdown",
   "metadata": {},
   "source": [
    "How many total orders were there during each of the first three months of the year?"
   ]
  },
  {
   "cell_type": "code",
   "execution_count": 58,
   "metadata": {},
   "outputs": [],
   "source": [
    "pivot = df_compact.pivot_table(index='original_dt', \n",
    "                       values='state_tracking_num', \n",
    "                       aggfunc='count', fill_value = 0).resample('M').sum()"
   ]
  },
  {
   "cell_type": "code",
   "execution_count": 59,
   "metadata": {},
   "outputs": [
    {
     "data": {
      "text/html": [
       "<div>\n",
       "<style scoped>\n",
       "    .dataframe tbody tr th:only-of-type {\n",
       "        vertical-align: middle;\n",
       "    }\n",
       "\n",
       "    .dataframe tbody tr th {\n",
       "        vertical-align: top;\n",
       "    }\n",
       "\n",
       "    .dataframe thead th {\n",
       "        text-align: right;\n",
       "    }\n",
       "</style>\n",
       "<table border=\"1\" class=\"dataframe\">\n",
       "  <thead>\n",
       "    <tr style=\"text-align: right;\">\n",
       "      <th></th>\n",
       "      <th>state_tracking_num</th>\n",
       "    </tr>\n",
       "    <tr>\n",
       "      <th>original_dt</th>\n",
       "      <th></th>\n",
       "    </tr>\n",
       "  </thead>\n",
       "  <tbody>\n",
       "    <tr>\n",
       "      <th>2020-01-31</th>\n",
       "      <td>13</td>\n",
       "    </tr>\n",
       "    <tr>\n",
       "      <th>2020-02-29</th>\n",
       "      <td>138</td>\n",
       "    </tr>\n",
       "    <tr>\n",
       "      <th>2020-03-31</th>\n",
       "      <td>1548</td>\n",
       "    </tr>\n",
       "  </tbody>\n",
       "</table>\n",
       "</div>"
      ],
      "text/plain": [
       "             state_tracking_num\n",
       "original_dt                    \n",
       "2020-01-31                   13\n",
       "2020-02-29                  138\n",
       "2020-03-31                 1548"
      ]
     },
     "execution_count": 59,
     "metadata": {},
     "output_type": "execute_result"
    }
   ],
   "source": [
    "pivot"
   ]
  },
  {
   "cell_type": "code",
   "execution_count": 60,
   "metadata": {},
   "outputs": [
    {
     "data": {
      "text/plain": [
       "<matplotlib.axes._subplots.AxesSubplot at 0x10dccac90>"
      ]
     },
     "execution_count": 60,
     "metadata": {},
     "output_type": "execute_result"
    },
    {
     "data": {
      "image/png": "[encoded data removed]",
      "text/plain": [
       "<Figure size 432x288 with 1 Axes>"
      ]
     },
     "metadata": {
      "needs_background": "light"
     },
     "output_type": "display_data"
    }
   ],
   "source": [
    "pivot.plot(kind='bar')"
   ]
  },
  {
   "cell_type": "code",
   "execution_count": 61,
   "metadata": {},
   "outputs": [
    {
     "data": {
      "text/plain": [
       "County       0.755882\n",
       "State        0.176471\n",
       "City         0.065882\n",
       "NaN          0.001176\n",
       "Completed    0.000588\n",
       "Name: worked_by, dtype: float64"
      ]
     },
     "execution_count": 61,
     "metadata": {},
     "output_type": "execute_result"
    }
   ],
   "source": [
    "df_compact['worked_by'].value_counts(dropna=False, normalize=True).head(10)"
   ]
  },
  {
   "cell_type": "code",
   "execution_count": 62,
   "metadata": {},
   "outputs": [
    {
     "name": "stdout",
     "output_type": "stream",
     "text": [
      "0.6388235294117647\n"
     ]
    },
    {
     "data": {
      "text/plain": [
       "King         0.297059\n",
       "Snohomish    0.165882\n",
       "Thurston     0.072353\n",
       "Spokane      0.051765\n",
       "Pierce       0.051765\n",
       "Name: county, dtype: float64"
      ]
     },
     "execution_count": 62,
     "metadata": {},
     "output_type": "execute_result"
    }
   ],
   "source": [
    "print(df_compact['county'].value_counts(dropna=False, normalize=True).head().sum())\n",
    "df_compact['county'].value_counts(dropna=False, normalize=True).head()"
   ]
  },
  {
   "cell_type": "code",
   "execution_count": 63,
   "metadata": {},
   "outputs": [
    {
     "data": {
      "text/plain": [
       "Seattle      0.142941\n",
       "Everett      0.082941\n",
       "Spokane      0.047647\n",
       "Shoreline    0.046471\n",
       "Tumwater     0.034118\n",
       "Name: city, dtype: float64"
      ]
     },
     "execution_count": 63,
     "metadata": {},
     "output_type": "execute_result"
    }
   ],
   "source": [
    "df_compact['city'].value_counts(dropna=False, normalize=True).head()"
   ]
  },
  {
   "cell_type": "code",
   "execution_count": 64,
   "metadata": {},
   "outputs": [
    {
     "data": {
      "text/plain": [
       "Logistics Section                               0.572353\n",
       "NaN                                             0.322941\n",
       "Planning Section                                0.044118\n",
       "ESF 7­Resource Management                       0.011176\n",
       "Logistics Intergovernmental Resources Branch    0.010588\n",
       "Logistics Deploy and Planning Branch            0.007059\n",
       "Operations Section                              0.007059\n",
       "Operations Section Planning Section             0.002353\n",
       "Finance and Administration Section              0.002353\n",
       "Logistics Commercial Resource Branch            0.001765\n",
       "Name: assignee, dtype: float64"
      ]
     },
     "execution_count": 64,
     "metadata": {},
     "output_type": "execute_result"
    }
   ],
   "source": [
    "df_compact['assignee'].value_counts(dropna=False, normalize=True).head(10)"
   ]
  },
  {
   "cell_type": "code",
   "execution_count": 65,
   "metadata": {},
   "outputs": [
    {
     "name": "stdout",
     "output_type": "stream",
     "text": [
      "1.0\n"
     ]
    },
    {
     "data": {
      "text/plain": [
       "Assigned      0.615882\n",
       "Accepted      0.117647\n",
       "Completed     0.101176\n",
       "Unassigned    0.097647\n",
       "Cancelled     0.049412\n",
       "On Scene      0.010588\n",
       "In Transit    0.006471\n",
       "County        0.001176\n",
       "Name: overall_stus, dtype: float64"
      ]
     },
     "execution_count": 65,
     "metadata": {},
     "output_type": "execute_result"
    }
   ],
   "source": [
    "print(df_compact['overall_stus'].value_counts(dropna=False, normalize=True).sum())\n",
    "df_compact['overall_stus'].value_counts(dropna=False, normalize=True)"
   ]
  },
  {
   "cell_type": "code",
   "execution_count": 66,
   "metadata": {},
   "outputs": [
    {
     "name": "stdout",
     "output_type": "stream",
     "text": [
      "1.0000000000000002\n"
     ]
    },
    {
     "data": {
      "text/plain": [
       "Assigned                0.601176\n",
       "NaN                     0.199412\n",
       "Completed               0.072353\n",
       "Accepted                0.060000\n",
       "Cancelled               0.031176\n",
       "On Scene                0.008824\n",
       "In Transit              0.007059\n",
       "Unassigned              0.004706\n",
       "Assigned Completed      0.002941\n",
       "Assigned Accepted       0.002353\n",
       "Unassigned Assigned     0.001176\n",
       "Cancelled Accepted      0.001176\n",
       "Accepted Completed      0.001176\n",
       "Completed Assigned      0.001176\n",
       "Logistics Section       0.000588\n",
       "Accepted Unassigned     0.000588\n",
       "Completed Cancelled     0.000588\n",
       "Assigned Cancelled      0.000588\n",
       "Accepted Assigned       0.000588\n",
       "Cancelled Assigned      0.000588\n",
       "On Scene Completed      0.000588\n",
       "On Scene Cancelled      0.000588\n",
       "Unassigned Completed    0.000588\n",
       "Name: assignment_stus, dtype: float64"
      ]
     },
     "execution_count": 66,
     "metadata": {},
     "output_type": "execute_result"
    }
   ],
   "source": [
    "print(df_compact['assignment_stus'].value_counts(dropna=False, normalize=True).sum())\n",
    "df_compact['assignment_stus'].value_counts(dropna=False, normalize=True)"
   ]
  },
  {
   "cell_type": "code",
   "execution_count": 67,
   "metadata": {},
   "outputs": [
    {
     "name": "stdout",
     "output_type": "stream",
     "text": [
      "0.24823529411764705\n"
     ]
    },
    {
     "data": {
      "text/plain": [
       "PHSKC                                   0.070588\n",
       "WA State DOH                            0.048235\n",
       "Snohomish Health District               0.021765\n",
       "DOH IMT                                 0.020588\n",
       "Sacred Heart Medical                    0.019412\n",
       "Pierce County Emergency Management      0.017059\n",
       "Thurston County Emergency Management    0.017059\n",
       "Kitsap County Dept of Emergency Mgt     0.012353\n",
       "Klickitat Valley Health                 0.010588\n",
       "KCEMS1                                  0.010588\n",
       "Name: agency, dtype: float64"
      ]
     },
     "execution_count": 67,
     "metadata": {},
     "output_type": "execute_result"
    }
   ],
   "source": [
    "print(df_compact['agency'].value_counts(dropna=False, normalize=True).head(10).sum())\n",
    "df_compact['agency'].value_counts(dropna=False, normalize=True).head(10)"
   ]
  },
  {
   "cell_type": "code",
   "execution_count": 68,
   "metadata": {},
   "outputs": [
    {
     "data": {
      "text/plain": [
       "Incident Stabilization    0.929412\n",
       "NaN                       0.037059\n",
       "Life Saving               0.027059\n",
       "Property Preservation     0.004706\n",
       "Medical equipment         0.001176\n",
       "City                      0.000588\n",
       "Name: pty, dtype: float64"
      ]
     },
     "execution_count": 68,
     "metadata": {},
     "output_type": "execute_result"
    }
   ],
   "source": [
    "df_compact['pty'].value_counts(dropna=False, normalize=True).head(10)"
   ]
  },
  {
   "cell_type": "code",
   "execution_count": 69,
   "metadata": {},
   "outputs": [
    {
     "data": {
      "text/plain": [
       "NaN                       0.276773\n",
       "Masks                     0.264256\n",
       "Disinfectant/Sanitizer    0.114743\n",
       "Gowns                     0.110223\n",
       "Gloves                    0.084145\n",
       "Face Shield               0.034423\n",
       "Staffing                  0.032684\n",
       "Goggles/Glasses           0.031641\n",
       "PPE                       0.019471\n",
       "Thermometers              0.012517\n",
       "SWABS                     0.008345\n",
       "Protective Equipment      0.005216\n",
       "Soap                      0.003129\n",
       "Medication                0.002434\n",
       "Name: subject_std, dtype: float64"
      ]
     },
     "execution_count": 69,
     "metadata": {},
     "output_type": "execute_result"
    }
   ],
   "source": [
    "df_expanded['subject_std'].value_counts(dropna=False, normalize=True)"
   ]
  },
  {
   "cell_type": "code",
   "execution_count": 70,
   "metadata": {},
   "outputs": [
    {
     "data": {
      "text/plain": [
       "<matplotlib.axes._subplots.AxesSubplot at 0x10cdf8610>"
      ]
     },
     "execution_count": 70,
     "metadata": {},
     "output_type": "execute_result"
    },
    {
     "data": {
      "image/png": "[encoded data removed]",
      "text/plain": [
       "<Figure size 432x288 with 1 Axes>"
      ]
     },
     "metadata": {
      "needs_background": "light"
     },
     "output_type": "display_data"
    }
   ],
   "source": [
    "df_expanded_plot = df_expanded[df_expanded['original_dt'] < '2020-03-23']\n",
    "pivot = df_expanded_plot.pivot_table(index='original_dt', \n",
    "                       columns='subject_std',\n",
    "                       values='state_tracking_num', \n",
    "                       aggfunc='count', fill_value = 0).resample('W').sum()\n",
    "pivot.plot()"
   ]
  },
  {
   "cell_type": "markdown",
   "metadata": {},
   "source": [
    "# Export"
   ]
  },
  {
   "cell_type": "code",
   "execution_count": 71,
   "metadata": {},
   "outputs": [],
   "source": [
    "df_compact.to_csv('output_data/csv/df_compact.csv', index=True)\n",
    "df_expanded.to_csv('output_data/csv/df_expanded.csv', index=True)"
   ]
  }
 ],
 "metadata": {
  "kernelspec": {
   "display_name": "Python 3",
   "language": "python",
   "name": "python3"
  },
  "language_info": {
   "codemirror_mode": {
    "name": "ipython",
    "version": 3
   },
   "file_extension": ".py",
   "mimetype": "text/x-python",
   "name": "python",
   "nbconvert_exporter": "python",
   "pygments_lexer": "ipython3",
   "version": "3.7.6"
  }
 },
 "nbformat": 4,
 "nbformat_minor": 4
}
