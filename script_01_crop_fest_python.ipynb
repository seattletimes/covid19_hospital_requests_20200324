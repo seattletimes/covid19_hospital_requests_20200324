{
 "cells": [
  {
   "cell_type": "markdown",
   "metadata": {},
   "source": [
    "# Settings"
   ]
  },
  {
   "cell_type": "code",
   "execution_count": 1,
   "metadata": {},
   "outputs": [],
   "source": [
    "from PyPDF2 import PdfFileMerger, PageRange, PdfFileWriter, PdfFileReader\n",
    "import fitz\n",
    "from os import listdir\n",
    "import re"
   ]
  },
  {
   "cell_type": "code",
   "execution_count": 2,
   "metadata": {},
   "outputs": [],
   "source": [
    "# Obtain a list of all the files in the 'output_data' folder\n",
    "file_list = listdir('source_data/')\n",
    "# Weed out those that are not PDFs\n",
    "file_list = [file for file in file_list if re.search('pdf$', file)]"
   ]
  },
  {
   "cell_type": "code",
   "execution_count": 3,
   "metadata": {},
   "outputs": [
    {
     "name": "stdout",
     "output_type": "stream",
     "text": [
      "70\n"
     ]
    }
   ],
   "source": [
    "print(len(file_list))"
   ]
  },
  {
   "cell_type": "markdown",
   "metadata": {},
   "source": [
    "# Bringing everybody together: Merge all PDF reports intro three different files"
   ]
  },
  {
   "cell_type": "code",
   "execution_count": 4,
   "metadata": {},
   "outputs": [],
   "source": [
    "mega_pdf = PdfFileMerger() # Pulls together all files into one big one\n",
    "pdf_first_pages = PdfFileMerger() # This one will contain all the first pages of each report\n",
    "pdf_non_first_pages = PdfFileMerger() # This one will contain all the non-first pages of each report\n",
    "\n",
    "for file in file_list:\n",
    "\n",
    "    # Merge them all into one\n",
    "    mega_pdf.append('source_data/' + file, pages=PageRange(':'))\n",
    "    \n",
    "    # File with only the first pages of all individual PDFs\n",
    "    pdf_first_pages.append('source_data/' + file, pages=PageRange('0'))\n",
    "    \n",
    "    # File with the non-first pages of all individual PDFs\n",
    "    pdf_non_first_pages.append('source_data/' + file, pages=PageRange('1:'))\n",
    "\n",
    "mega_pdf.write('output_data/pdf/reports_all_pages.pdf')\n",
    "pdf_first_pages.write('output_data/pdf/reports_first_pages.pdf')\n",
    "pdf_non_first_pages.write('output_data/pdf/reports_non_first_pages.pdf')\n",
    "\n",
    "mega_pdf.close()\n",
    "pdf_first_pages.close()\n",
    "pdf_non_first_pages.close()"
   ]
  },
  {
   "cell_type": "markdown",
   "metadata": {},
   "source": [
    "# Cropping mayhem"
   ]
  },
  {
   "cell_type": "markdown",
   "metadata": {},
   "source": [
    "**Warnign!**\n",
    "For some reason, the PDF files produced by the next couple of code cells turns out to be corrupted and cannot be opened. If that happens, run them again. Usually the second or third time are successful. (Kindly do not ask for the reason of this bizarre phenomenon.)"
   ]
  },
  {
   "cell_type": "markdown",
   "metadata": {},
   "source": [
    "## Non-first pages"
   ]
  },
  {
   "cell_type": "code",
   "execution_count": 8,
   "metadata": {},
   "outputs": [],
   "source": [
    "ftz = fitz.open('output_data/pdf/reports_non_first_pages.pdf')\n",
    "reader = PdfFileReader('output_data/pdf/reports_non_first_pages.pdf')\n",
    "writer = PdfFileWriter()\n",
    "\n",
    "# Consistency test\n",
    "assert len(reader.pages) == len(ftz)\n",
    "\n",
    "# (left, top, right, bottom) = (0.0, 0.0, 842.0, 595.0)\n",
    "for i in range(0, len(reader.pages)):\n",
    "    reader_page = reader.pages[i]\n",
    "    fitz_page = ftz[i]\n",
    "    \n",
    "    right = fitz_page.searchFor('Update')[-1][0]\n",
    "    \n",
    "    reader_page.mediaBox.lowerLeft = (0, fitz_page.rect[3]-555) # (0, 595-555)\n",
    "    reader_page.mediaBox.upperRight = (right*0.99, fitz_page.rect[3]-45) # (842-right, 595-45)\n",
    "    writer.addPage(reader_page)\n",
    "\n",
    "output_file = open('output_data/pdf/reports_non_first_pages_cropped.pdf', 'wb')\n",
    "writer.write(output_file)"
   ]
  },
  {
   "cell_type": "code",
   "execution_count": 9,
   "metadata": {},
   "outputs": [
    {
     "data": {
      "text/plain": [
       "Rect(0.0, 0.0, 842.0, 595.0)"
      ]
     },
     "execution_count": 9,
     "metadata": {},
     "output_type": "execute_result"
    }
   ],
   "source": [
    "fitz_page.rect"
   ]
  },
  {
   "cell_type": "markdown",
   "metadata": {},
   "source": [
    "## First pages"
   ]
  },
  {
   "cell_type": "code",
   "execution_count": 11,
   "metadata": {},
   "outputs": [],
   "source": [
    "ftz = fitz.open('output_data/pdf/reports_first_pages.pdf')\n",
    "reader = PdfFileReader('output_data/pdf/reports_first_pages.pdf')\n",
    "writer = PdfFileWriter()\n",
    "\n",
    "# Consistency test\n",
    "assert len(reader.pages) == len(ftz)\n",
    "\n",
    "# (left, top, right, bottom) = (0.0, 0.0, 842.0, 595.0)\n",
    "for i in range(0, len(reader.pages)):\n",
    "    reader_page = reader.pages[i]\n",
    "    fitz_page = ftz[i]\n",
    "    \n",
    "    top = fitz_page.searchFor('Date/Time')[-1][3]\n",
    "    right = fitz_page.searchFor('Update')[-1][0]\n",
    "    \n",
    "    reader_page.mediaBox.lowerLeft = (0, fitz_page.rect[3]-550) # (0, 595-550)\n",
    "    reader_page.mediaBox.upperRight = (right*0.99, fitz_page.rect[3]-top) # (right, 595-top)\n",
    "    writer.addPage(reader_page)\n",
    "\n",
    "output_file = open('output_data/pdf/reports_first_pages_cropped.pdf', 'wb')\n",
    "writer.write(output_file)"
   ]
  }
 ],
 "metadata": {
  "kernelspec": {
   "display_name": "Python 3",
   "language": "python",
   "name": "python3"
  },
  "language_info": {
   "codemirror_mode": {
    "name": "ipython",
    "version": 3
   },
   "file_extension": ".py",
   "mimetype": "text/x-python",
   "name": "python",
   "nbconvert_exporter": "python",
   "pygments_lexer": "ipython3",
   "version": "3.7.6"
  }
 },
 "nbformat": 4,
 "nbformat_minor": 4
}
