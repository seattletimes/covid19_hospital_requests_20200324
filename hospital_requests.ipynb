{
 "cells": [
  {
   "cell_type": "markdown",
   "metadata": {},
   "source": [
    "# Settings"
   ]
  },
  {
   "cell_type": "code",
   "execution_count": 23,
   "metadata": {},
   "outputs": [],
   "source": [
    "import pdfplumber\n",
    "import fitz\n",
    "import pandas as pd\n",
    "from tabula import read_pdf\n",
    "import re\n",
    "from os import listdir\n",
    "from decimal import Decimal\n",
    "import pprint"
   ]
  },
  {
   "cell_type": "code",
   "execution_count": 2,
   "metadata": {},
   "outputs": [],
   "source": [
    "file_list = listdir('source_data/')"
   ]
  },
  {
   "cell_type": "markdown",
   "metadata": {},
   "source": [
    "# Using Fitz"
   ]
  },
  {
   "cell_type": "code",
   "execution_count": 3,
   "metadata": {},
   "outputs": [],
   "source": [
    "pdf = fitz.open('source_data/'+file_list[0])\n",
    "page = pdf[0]"
   ]
  },
  {
   "cell_type": "code",
   "execution_count": 34,
   "metadata": {},
   "outputs": [
    {
     "name": "stdout",
     "output_type": "stream",
     "text": [
      "Original\n",
      "[Rect(25.09865379333496, 197.20082092285156, 57.9728889465332, 206.54745483398438)]\n",
      "\n",
      "\n",
      "Most\n",
      "[Rect(77.0887222290039, 187.63941955566406, 98.00434112548828, 196.98605346679688)]\n",
      "\n",
      "\n",
      "Date/Time\n",
      "[Rect(66.92974090576172, 216.32350158691406, 108.16452026367188, 225.67013549804688)]\n",
      "\n",
      "\n",
      "County /\n",
      "[Rect(121.90774536132812, 197.20082092285156, 155.9771728515625, 206.54745483398438)]\n",
      "\n",
      "\n",
      "Originating\n",
      "[Rect(173.89781188964844, 197.20082092285156, 220.51661682128906, 206.54745483398438)]\n",
      "\n",
      "\n",
      "Jurisdiction\n",
      "[Rect(231.2661590576172, 197.20082092285156, 280.8729248046875, 206.54745483398438)]\n",
      "\n",
      "\n",
      "State\n",
      "[Rect(302.9765930175781, 197.20082092285156, 324.490966796875, 206.54745483398438)]\n",
      "\n",
      "\n",
      "EMAC #\n",
      "[Rect(346.00286865234375, 192.42005920410156, 377.67626953125, 201.76669311523438)]\n",
      "\n",
      "\n",
      "Subject\n",
      "[Rect(395.0050048828125, 201.98146057128906, 426.6771545410156, 211.32809448242188)]\n",
      "\n",
      "\n",
      "Priority\n",
      "[Rect(495.5486755371094, 120.11207580566406, 525.3978881835938, 129.45870971679688),\n",
      " Rect(454.7637023925781, 201.98146057128906, 484.644287109375, 211.32809448242188)]\n",
      "\n",
      "\n",
      "Worked\n",
      "[Rect(698.4744262695312, 99.79408264160156, 728.48193359375, 109.14071655273438),\n",
      " Rect(501.37548828125, 197.20082092285156, 533.6522216796875, 206.54745483398438)]\n",
      "\n",
      "\n",
      "Overall\n",
      "[Rect(543.8041381835938, 197.20082092285156, 574.0459594726562, 206.54745483398438)]\n",
      "\n",
      "\n",
      "Assignment Information\n",
      "[Rect(620.8928833007812, 187.63941955566406, 720.0996704101562, 196.98605346679688)]\n",
      "\n",
      "\n",
      "Assigned To\n",
      "[Rect(48.44452667236328, 95.01344299316406, 99.33422088623047, 104.36007690429688),\n",
      " Rect(650.1746215820312, 207.35975646972656, 700.976806640625, 216.70639038085938)]\n",
      "\n",
      "\n",
      "Update\n",
      "[Rect(69.91767883300781, 206.76210021972656, 99.77021789550781, 216.10873413085938),\n",
      " Rect(723.0802612304688, 207.35975646972656, 752.9608764648438, 216.70639038085938),\n",
      " Rect(726.0681762695312, 240.02835083007812, 749.9745483398438, 249.40533447265625),\n",
      " Rect(726.0681762695312, 278.8714904785156, 749.9745483398438, 288.24847412109375),\n",
      " Rect(726.0681762695312, 328.4712219238281, 749.9745483398438, 337.84820556640625),\n",
      " Rect(726.0681762695312, 382.8515930175781, 749.9745483398438, 392.22857666015625),\n",
      " Rect(726.0681762695312, 427.6706848144531, 749.9745483398438, 437.04766845703125),\n",
      " Rect(726.0681762695312, 465.9161682128906, 749.9745483398438, 475.29315185546875),\n",
      " Rect(726.0681762695312, 538.2243041992188, 749.9745483398438, 547.6012573242188),\n",
      " Rect(726.0681762695312, 640.4116821289062, 749.9745483398438, 649.7886352539062),\n",
      " Rect(726.0681762695312, 707.3413696289062, 749.9745483398438, 716.7183227539062),\n",
      " Rect(726.0681762695312, 746.1845092773438, 749.9745483398438, 755.5614624023438),\n",
      " Rect(726.0681762695312, 814.9070434570312, 749.9745483398438, 824.2839965820312),\n",
      " Rect(726.0681762695312, 897.9716186523438, 749.9745483398438, 907.3485717773438),\n",
      " Rect(726.0681762695312, 952.35205078125, 749.9745483398438, 961.72900390625),\n",
      " Rect(726.0681762695312, 990.5975952148438, 749.9745483398438, 999.9745483398438)]\n",
      "\n",
      "\n"
     ]
    }
   ],
   "source": [
    "column_keyworks = ['Original', 'Most', 'Date/Time', 'County /', 'Originating', 'Jurisdiction', \n",
    "                   'State', 'EMAC #', 'Subject', 'Priority', 'Worked', 'Overall', \n",
    "                   'Assignment Information', 'Assigned To', 'Update']\n",
    "\n",
    "for kw in column_keyworks:\n",
    "    text_instances = page.searchFor(kw)\n",
    "    print(kw)\n",
    "    pprint.pprint(text_instances)\n",
    "    print('\\n')"
   ]
  },
  {
   "cell_type": "code",
   "execution_count": null,
   "metadata": {},
   "outputs": [],
   "source": [
    "\n",
    "\n",
    "\n"
   ]
  },
  {
   "cell_type": "markdown",
   "metadata": {},
   "source": [
    "# Using PDF Plumber"
   ]
  },
  {
   "cell_type": "code",
   "execution_count": null,
   "metadata": {},
   "outputs": [],
   "source": [
    "pdf = pdfplumber.open('source_data/'+file_list[0])\n",
    "file_list[0]"
   ]
  },
  {
   "cell_type": "code",
   "execution_count": null,
   "metadata": {},
   "outputs": [],
   "source": [
    "page = pdf.pages[0]"
   ]
  },
  {
   "cell_type": "code",
   "execution_count": null,
   "metadata": {},
   "outputs": [],
   "source": [
    "config = {\n",
    "    'vertical_strategy':'lines',\n",
    "    'horizontal_strategy':'lines',\n",
    "         }\n",
    "page.to_image().debug_tablefinder(config)"
   ]
  },
  {
   "cell_type": "code",
   "execution_count": null,
   "metadata": {},
   "outputs": [],
   "source": [
    "config = {\n",
    "    'vertical_strategy':'lines',\n",
    "    'horizontal_strategy':'lines',\n",
    "         }\n",
    "box = (page.width*Decimal(0.02), page.height*Decimal(0.05), \n",
    "       page.width*Decimal(0.85), page.height*Decimal(0.935))\n",
    "print(page.width, page.height)\n",
    "print(box)\n",
    "print(box[0], box[1], '\\n', box[2], box[3])\n",
    "page.crop(box).to_image().debug_tablefinder(config)"
   ]
  },
  {
   "cell_type": "code",
   "execution_count": null,
   "metadata": {},
   "outputs": [],
   "source": [
    "page.crop(box).debug_tablefinder(config).tables"
   ]
  },
  {
   "cell_type": "markdown",
   "metadata": {},
   "source": [
    "# Using Tabula"
   ]
  },
  {
   "cell_type": "code",
   "execution_count": null,
   "metadata": {},
   "outputs": [],
   "source": [
    "df = read_pdf('source_data/'+file_list[0],\n",
    "                   pages='1', pandas_options={'header':0}, output_format='dataframe', \n",
    "                   area = [186,18,520,718], columns = [64, 111, 166, 226, 284, 342, 380, 440, 500, 535, 583, 632])"
   ]
  },
  {
   "cell_type": "code",
   "execution_count": null,
   "metadata": {
    "scrolled": false
   },
   "outputs": [],
   "source": [
    "df"
   ]
  },
  {
   "cell_type": "code",
   "execution_count": null,
   "metadata": {},
   "outputs": [],
   "source": []
  },
  {
   "cell_type": "code",
   "execution_count": null,
   "metadata": {},
   "outputs": [],
   "source": []
  },
  {
   "cell_type": "code",
   "execution_count": null,
   "metadata": {},
   "outputs": [],
   "source": [
    "df = read_pdf('source_data/'+file_list[0],\n",
    "                   pages='2', pandas_options={'header':None}, output_format='dataframe', \n",
    "                   area = [48,18,556,718], columns = [64, 111, 166, 226, 284, 342, 380, 440, 500, 535, 583, 632, ])"
   ]
  },
  {
   "cell_type": "code",
   "execution_count": null,
   "metadata": {},
   "outputs": [],
   "source": [
    "df"
   ]
  },
  {
   "cell_type": "code",
   "execution_count": null,
   "metadata": {},
   "outputs": [],
   "source": [
    "box[0]"
   ]
  },
  {
   "cell_type": "code",
   "execution_count": null,
   "metadata": {},
   "outputs": [],
   "source": [
    "inst[0]"
   ]
  },
  {
   "cell_type": "code",
   "execution_count": null,
   "metadata": {},
   "outputs": [],
   "source": []
  }
 ],
 "metadata": {
  "kernelspec": {
   "display_name": "Python 3",
   "language": "python",
   "name": "python3"
  },
  "language_info": {
   "codemirror_mode": {
    "name": "ipython",
    "version": 3
   },
   "file_extension": ".py",
   "mimetype": "text/x-python",
   "name": "python",
   "nbconvert_exporter": "python",
   "pygments_lexer": "ipython3",
   "version": "3.7.6"
  }
 },
 "nbformat": 4,
 "nbformat_minor": 4
}
